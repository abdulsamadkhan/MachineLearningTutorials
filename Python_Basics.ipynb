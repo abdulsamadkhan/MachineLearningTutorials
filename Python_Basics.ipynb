{
  "cells": [
    {
      "cell_type": "markdown",
      "metadata": {
        "id": "view-in-github",
        "colab_type": "text"
      },
      "source": [
        "<a href=\"https://colab.research.google.com/github/abdulsamadkhan/MachineLearningTutorials/blob/main/Python_Basics.ipynb\" target=\"_parent\"><img src=\"https://colab.research.google.com/assets/colab-badge.svg\" alt=\"Open In Colab\"/></a>"
      ]
    },
    {
      "cell_type": "markdown",
      "source": [
        "# Python Basics - IPython Notebook\n"
      ],
      "metadata": {
        "id": "rcl23jnqhGog"
      },
      "id": "rcl23jnqhGog"
    },
    {
      "cell_type": "markdown",
      "source": [
        "## Section 0: Variable\n",
        "Now let's start introducing variables. Variables store a value, that can be looked at or changed at a later time. Let's make a program that uses variables:\n"
      ],
      "metadata": {
        "id": "5ii8lafUhGn6"
      },
      "id": "5ii8lafUhGn6"
    },
    {
      "cell_type": "code",
      "source": [
        "#variables demonstrated\n",
        "print(\"This program is a demo of variables\")\n",
        "v = 1\n",
        "print(\"The value of v is now\", v)\n",
        "v = v + 1\n",
        "print(\"v now equals itself plus one, making it worth\", v)\n",
        "v = 51\n",
        "print(\"v can store any numerical value, to be used elsewhere.\")\n",
        "print(\"for example, in a sentence. v is now worth\", v)\n",
        "print(\"v times 5 equals\", v * 5)\n",
        "print(\"but v still only remains\", v)\n",
        "print(\"to make v five times bigger, you would have to type v = v * 5\")\n",
        "v = v * 5\n",
        "print(\"there you go, now v equals\", v, \"and not\", v / 5)"
      ],
      "metadata": {
        "colab": {
          "base_uri": "https://localhost:8080/"
        },
        "id": "igx9rOJFhnTc",
        "outputId": "a001a6c9-6307-477b-ae97-dc587951bb13"
      },
      "id": "igx9rOJFhnTc",
      "execution_count": 1,
      "outputs": [
        {
          "output_type": "stream",
          "name": "stdout",
          "text": [
            "This program is a demo of variables\n",
            "The value of v is now 1\n",
            "v now equals itself plus one, making it worth 2\n",
            "v can store any numerical value, to be used elsewhere.\n",
            "for example, in a sentence. v is now worth 51\n",
            "v times 5 equals 255\n",
            "but v still only remains 51\n",
            "to make v five times bigger, you would have to type v = v * 5\n",
            "there you go, now v equals 255 and not 51.0\n"
          ]
        }
      ]
    },
    {
      "cell_type": "markdown",
      "source": [
        "\n",
        "## Section 1: If-Else\n",
        "\n",
        "### Explanation\n",
        "The `if` statement is used to execute a block of code if a specified condition is true. The `else` statement can follow an `if` statement to execute a block of code if the condition is false. Optionally, `elif` allows multiple conditions to be checked.\n",
        "\n",
        "### Examples\n"
      ],
      "metadata": {
        "id": "I78kWaCgcd3a"
      },
      "id": "I78kWaCgcd3a"
    },
    {
      "cell_type": "code",
      "source": [
        "\n",
        "# Example 1: Simple If-Else\n",
        "number = 10\n",
        "if number > 5:\n",
        "    print(\"The number is greater than 5\")\n",
        "else:\n",
        "    print(\"The number is not greater than 5\")\n",
        "\n",
        "\n"
      ],
      "metadata": {
        "colab": {
          "base_uri": "https://localhost:8080/"
        },
        "id": "It3C86_-ckdq",
        "outputId": "03f59c8e-a1f0-48e8-e384-1de63335ed6b"
      },
      "id": "It3C86_-ckdq",
      "execution_count": 2,
      "outputs": [
        {
          "output_type": "stream",
          "name": "stdout",
          "text": [
            "The number is greater than 5\n"
          ]
        }
      ]
    },
    {
      "cell_type": "code",
      "source": [
        "# Example 2: If-Elif-Else\n",
        "age = 25\n",
        "if age < 18:\n",
        "    print(\"You are a minor.\")\n",
        "elif age < 60:\n",
        "    print(\"You are an adult.\")\n",
        "else:\n",
        "    print(\"You are a senior citizen.\")"
      ],
      "metadata": {
        "colab": {
          "base_uri": "https://localhost:8080/"
        },
        "id": "zzlauJwahK7x",
        "outputId": "c9440498-87a0-458f-8cb9-0c195c67e064"
      },
      "id": "zzlauJwahK7x",
      "execution_count": 3,
      "outputs": [
        {
          "output_type": "stream",
          "name": "stdout",
          "text": [
            "You are an adult.\n"
          ]
        }
      ]
    },
    {
      "cell_type": "markdown",
      "source": [
        "## Section 2: Looping Constructs\n",
        "\n",
        "### Explanation\n",
        "Loops allow repeated execution of a block of code. Python provides `for` and `while` loops.\n",
        "\n",
        "### Examples\n"
      ],
      "metadata": {
        "id": "JGdsvVRGcxCI"
      },
      "id": "JGdsvVRGcxCI"
    },
    {
      "cell_type": "code",
      "source": [
        "# For Loop\n",
        "for i in range(1, 6):\n",
        "    print(f\"Iteration {i}\")"
      ],
      "metadata": {
        "colab": {
          "base_uri": "https://localhost:8080/"
        },
        "id": "j6RTTt9Sc1Ml",
        "outputId": "40443459-58af-47c0-cc6c-be0155223755"
      },
      "id": "j6RTTt9Sc1Ml",
      "execution_count": 8,
      "outputs": [
        {
          "output_type": "stream",
          "name": "stdout",
          "text": [
            "Iteration 1\n",
            "Iteration 2\n",
            "Iteration 3\n",
            "Iteration 4\n",
            "Iteration 5\n",
            "Iteration 1\n",
            "Iteration 3\n",
            "Iteration 5\n"
          ]
        }
      ]
    },
    {
      "cell_type": "markdown",
      "source": [
        "### Python `range()` Function\n",
        "\n",
        "The `range()` function in Python is used to generate a sequence of numbers. It's often used in `for` loops to iterate a specific number of times or over a range of values.\n",
        "\n",
        "#### Syntax\n",
        "```python\n",
        "range(start, stop, step)\n",
        "```\n",
        "\n",
        "\n",
        "*   **start:** (Optional) The starting number of the sequence. Default is 0.\n",
        "*  **stop:** (Required) The endpoint of the sequence (exclusive).\n",
        "*  **step:** (Optional) The difference between each number in the sequence. Default is 1.\n",
        "\n",
        "\n",
        "\n"
      ],
      "metadata": {
        "id": "v-Xz2umaiMuo"
      },
      "id": "v-Xz2umaiMuo"
    },
    {
      "cell_type": "code",
      "source": [
        "# Generate every second number from 2 to 10\n",
        "for i in range(2, 11, 2):\n",
        "    print(i)\n"
      ],
      "metadata": {
        "colab": {
          "base_uri": "https://localhost:8080/"
        },
        "id": "dL7-lhzDjCop",
        "outputId": "3d40b0a4-5a63-4c21-c1b1-2a43afdeb5b6"
      },
      "id": "dL7-lhzDjCop",
      "execution_count": 9,
      "outputs": [
        {
          "output_type": "stream",
          "name": "stdout",
          "text": [
            "2\n",
            "4\n",
            "6\n",
            "8\n",
            "10\n"
          ]
        }
      ]
    },
    {
      "cell_type": "code",
      "source": [
        "# Generate numbers in reverse from 10 to 1\n",
        "for i in range(10, 0, -1):\n",
        "    print(i)\n"
      ],
      "metadata": {
        "colab": {
          "base_uri": "https://localhost:8080/"
        },
        "id": "OnbOPTeUjIVQ",
        "outputId": "c8646d71-a0b2-440d-ed49-c348993184ef"
      },
      "id": "OnbOPTeUjIVQ",
      "execution_count": 10,
      "outputs": [
        {
          "output_type": "stream",
          "name": "stdout",
          "text": [
            "10\n",
            "9\n",
            "8\n",
            "7\n",
            "6\n",
            "5\n",
            "4\n",
            "3\n",
            "2\n",
            "1\n"
          ]
        }
      ]
    },
    {
      "cell_type": "code",
      "source": [
        "# Create a list of numbers from 0 to 4\n",
        "numbers = list(range(5))\n",
        "print(numbers)\n"
      ],
      "metadata": {
        "colab": {
          "base_uri": "https://localhost:8080/"
        },
        "id": "Zt7_6wFtjTqI",
        "outputId": "53618462-b068-418e-86ae-e0c7a11c0229"
      },
      "id": "Zt7_6wFtjTqI",
      "execution_count": 11,
      "outputs": [
        {
          "output_type": "stream",
          "name": "stdout",
          "text": [
            "[0, 1, 2, 3, 4]\n"
          ]
        }
      ]
    },
    {
      "cell_type": "code",
      "source": [
        "# While Loop\n",
        "count = 1\n",
        "while count <= 5:\n",
        "    print(f\"Count is {count}\")\n",
        "    count += 1"
      ],
      "metadata": {
        "colab": {
          "base_uri": "https://localhost:8080/"
        },
        "id": "R_l7f8GOhSyU",
        "outputId": "788562b1-5100-4906-c321-3e84b3fd1baa"
      },
      "id": "R_l7f8GOhSyU",
      "execution_count": 12,
      "outputs": [
        {
          "output_type": "stream",
          "name": "stdout",
          "text": [
            "Count is 1\n",
            "Count is 2\n",
            "Count is 3\n",
            "Count is 4\n",
            "Count is 5\n"
          ]
        }
      ]
    },
    {
      "cell_type": "markdown",
      "source": [
        "## Section 3: Strings\n",
        "\n",
        "### Explanation\n",
        "A string in Python is a sequence of characters enclosed within single (') or double (\") quotes. Strings are one of the most commonly used data types in Python.\n",
        "\n",
        "### Examples\n"
      ],
      "metadata": {
        "id": "eCyuWGmadDNW"
      },
      "id": "eCyuWGmadDNW"
    },
    {
      "cell_type": "code",
      "source": [
        "# Single-quoted string\n",
        "single_quoted = 'Hello, World!'\n",
        "\n",
        "# Double-quoted string\n",
        "double_quoted = \"Python is fun!\"\n",
        "\n",
        "# Multiline string\n",
        "multi_line = '''This is\n",
        "a multiline\n",
        "string.'''\n",
        "\n",
        "print(single_quoted)\n",
        "print(double_quoted)\n",
        "print(multi_line)\n"
      ],
      "metadata": {
        "colab": {
          "base_uri": "https://localhost:8080/"
        },
        "id": "Tl9qf3Etc1Lu",
        "outputId": "c20e1796-e6e5-411a-f7ca-908ab1115125"
      },
      "id": "Tl9qf3Etc1Lu",
      "execution_count": 16,
      "outputs": [
        {
          "output_type": "stream",
          "name": "stdout",
          "text": [
            "Hello, World!\n",
            "Python is fun!\n",
            "This is\n",
            "a multiline\n",
            "string.\n"
          ]
        }
      ]
    },
    {
      "cell_type": "markdown",
      "source": [
        "### Concatenation\n",
        "Combine two or more strings using the + operator."
      ],
      "metadata": {
        "id": "pye4BDmqlDjf"
      },
      "id": "pye4BDmqlDjf"
    },
    {
      "cell_type": "code",
      "source": [
        "greeting = \"Hello\"\n",
        "name = \"Alice\"\n",
        "message = greeting + \", \" + name + \"!\"\n",
        "print(message)\n"
      ],
      "metadata": {
        "colab": {
          "base_uri": "https://localhost:8080/"
        },
        "id": "7dEuJIHYdQye",
        "outputId": "06259dc9-bd2a-4bb5-b634-b4c35656f334"
      },
      "id": "7dEuJIHYdQye",
      "execution_count": 17,
      "outputs": [
        {
          "output_type": "stream",
          "name": "stdout",
          "text": [
            "Hello, Alice!\n"
          ]
        }
      ]
    },
    {
      "cell_type": "markdown",
      "source": [
        "###Repetition\n",
        "Repeat a string using the * operator."
      ],
      "metadata": {
        "id": "hmKMh-KAlOf-"
      },
      "id": "hmKMh-KAlOf-"
    },
    {
      "cell_type": "code",
      "source": [
        "laugh = \"Ha\"\n",
        "print(laugh * 3)\n"
      ],
      "metadata": {
        "colab": {
          "base_uri": "https://localhost:8080/"
        },
        "id": "92fZhMDolTu-",
        "outputId": "6fded12e-006e-4722-ff8a-2c7e6b359d45"
      },
      "id": "92fZhMDolTu-",
      "execution_count": 18,
      "outputs": [
        {
          "output_type": "stream",
          "name": "stdout",
          "text": [
            "HaHaHa\n"
          ]
        }
      ]
    },
    {
      "cell_type": "markdown",
      "source": [
        "### Indexing\n",
        "Access individual characters using their index. Indexing starts from 0."
      ],
      "metadata": {
        "id": "8siYq75ClXoW"
      },
      "id": "8siYq75ClXoW"
    },
    {
      "cell_type": "code",
      "source": [
        "text = \"Python\"\n",
        "print(text[0])  # First character\n",
        "print(text[-1]) # Last character\n"
      ],
      "metadata": {
        "colab": {
          "base_uri": "https://localhost:8080/"
        },
        "id": "jaLYKlkRlb7e",
        "outputId": "c435eb19-4d76-431c-f504-c2ac0a041097"
      },
      "id": "jaLYKlkRlb7e",
      "execution_count": 19,
      "outputs": [
        {
          "output_type": "stream",
          "name": "stdout",
          "text": [
            "P\n",
            "n\n"
          ]
        }
      ]
    },
    {
      "cell_type": "markdown",
      "source": [
        "###Slicing\n",
        "Extract a substring using start:stop indices."
      ],
      "metadata": {
        "id": "qxCQvHwRljuV"
      },
      "id": "qxCQvHwRljuV"
    },
    {
      "cell_type": "code",
      "source": [
        "text = \"Programming\"\n",
        "print(text[0:6])  # 'Progra'\n",
        "print(text[3:8])  # 'gramm'\n",
        "print(text[:4])   # 'Prog'\n",
        "print(text[4:])   # 'ramming'\n"
      ],
      "metadata": {
        "colab": {
          "base_uri": "https://localhost:8080/"
        },
        "id": "-O1wMpJKlqip",
        "outputId": "1ba3a36b-0f35-4c02-ed8a-604130a38f16"
      },
      "id": "-O1wMpJKlqip",
      "execution_count": 20,
      "outputs": [
        {
          "output_type": "stream",
          "name": "stdout",
          "text": [
            "Progra\n",
            "gramm\n",
            "Prog\n",
            "ramming\n"
          ]
        }
      ]
    },
    {
      "cell_type": "markdown",
      "source": [
        "### String Methods\n",
        "Common string methods:"
      ],
      "metadata": {
        "id": "mLh8czrMl12m"
      },
      "id": "mLh8czrMl12m"
    },
    {
      "cell_type": "code",
      "source": [
        "text = \"hello, world!\"\n",
        "\n",
        "# Capitalize the first letter\n",
        "print(text.capitalize())  # 'Hello, world!'\n",
        "\n",
        "# Convert to uppercase\n",
        "print(text.upper())  # 'HELLO, WORLD!'\n",
        "\n",
        "# Convert to lowercase\n",
        "print(text.lower())  # 'hello, world!'\n",
        "\n",
        "# Replace substrings\n",
        "print(text.replace(\"world\", \"Python\"))  # 'hello, Python!'\n",
        "\n",
        "# Split into a list\n",
        "print(text.split(\", \"))  # ['hello', 'world!']\n",
        "\n",
        "# Check if string starts/ends with a specific substring\n",
        "print(text.startswith(\"hello\"))  # True\n",
        "print(text.endswith(\"!\"))        # True\n"
      ],
      "metadata": {
        "colab": {
          "base_uri": "https://localhost:8080/"
        },
        "id": "KiO83WZcl7et",
        "outputId": "5d4395fe-f9e5-4ed7-eecf-b38ad7bf8869"
      },
      "id": "KiO83WZcl7et",
      "execution_count": 21,
      "outputs": [
        {
          "output_type": "stream",
          "name": "stdout",
          "text": [
            "Hello, world!\n",
            "HELLO, WORLD!\n",
            "hello, world!\n",
            "hello, Python!\n",
            "['hello', 'world!']\n",
            "True\n",
            "True\n"
          ]
        }
      ]
    },
    {
      "cell_type": "markdown",
      "source": [
        "\n",
        "## Section 4: Lists\n",
        "\n",
        "### Explanation\n",
        "Lists are ordered collections of items that are mutable. They are extremely versatile and can store various data types. Lists are commonly used in data manipulation and serve as a foundation for more complex data structures.\n",
        "\n",
        "### Examples\n",
        "\n",
        "#### Basic Operations\n"
      ],
      "metadata": {
        "id": "y2H7P_y8daTG"
      },
      "id": "y2H7P_y8daTG"
    },
    {
      "cell_type": "code",
      "source": [
        "# Creating a List\n",
        "fruits = [\"apple\", \"banana\", \"cherry\"]\n",
        "print(f\"Original List: {fruits}\")\n",
        "\n",
        "# Adding Items\n",
        "fruits.append(\"date\")\n",
        "print(f\"After Append: {fruits}\")\n",
        "\n",
        "# Inserting Items\n",
        "fruits.insert(1, \"blueberry\")\n",
        "print(f\"After Insert: {fruits}\")\n",
        "\n",
        "# Removing Items\n",
        "fruits.remove(\"banana\")\n",
        "print(f\"After Remove: {fruits}\")\n",
        "\n",
        "# Accessing Items\n",
        "print(f\"First Fruit: {fruits[0]}\")\n",
        "print(f\"Last Fruit: {fruits[-1]}\")\n"
      ],
      "metadata": {
        "colab": {
          "base_uri": "https://localhost:8080/"
        },
        "id": "LuFHKN60dgL9",
        "outputId": "b59d9fb1-0a3a-41c1-b7b4-b4748f5f3a92"
      },
      "id": "LuFHKN60dgL9",
      "execution_count": 24,
      "outputs": [
        {
          "output_type": "stream",
          "name": "stdout",
          "text": [
            "Original List: ['apple', 'banana', 'cherry']\n",
            "After Append: ['apple', 'banana', 'cherry', 'date']\n",
            "After Insert: ['apple', 'blueberry', 'banana', 'cherry', 'date']\n",
            "After Remove: ['apple', 'blueberry', 'cherry', 'date']\n",
            "First Fruit: apple\n",
            "Last Fruit: date\n"
          ]
        }
      ]
    },
    {
      "cell_type": "markdown",
      "source": [
        "### Iterating through a List"
      ],
      "metadata": {
        "id": "kAQta0051BtB"
      },
      "id": "kAQta0051BtB"
    },
    {
      "cell_type": "code",
      "source": [
        "\n",
        "for fruit in fruits:\n",
        "    print(f\"I like {fruit}\")\n",
        "\n",
        "\n",
        "for index, fruit in enumerate(fruits):\n",
        "    print(f\"Index: {index}, Fruit: {fruit}\")\n"
      ],
      "metadata": {
        "colab": {
          "base_uri": "https://localhost:8080/"
        },
        "id": "6UAAhxhf1MLB",
        "outputId": "944065ee-9e29-414e-e60d-ff19d2dd9286"
      },
      "id": "6UAAhxhf1MLB",
      "execution_count": 27,
      "outputs": [
        {
          "output_type": "stream",
          "name": "stdout",
          "text": [
            "I like apple\n",
            "I like blueberry\n",
            "I like cherry\n",
            "I like date\n",
            "Index: 0, Fruit: apple\n",
            "Index: 1, Fruit: blueberry\n",
            "Index: 2, Fruit: cherry\n",
            "Index: 3, Fruit: date\n"
          ]
        }
      ]
    },
    {
      "cell_type": "markdown",
      "source": [
        "### List Comprehension\n"
      ],
      "metadata": {
        "id": "PpWdl-ZI2G6i"
      },
      "id": "PpWdl-ZI2G6i"
    },
    {
      "cell_type": "code",
      "source": [
        "\n",
        "\n",
        "squares = [x**2 for x in range(1, 6)]\n",
        "print(f\"Squares: {squares}\")\n",
        "\n",
        "# Filtering a List\n",
        "numbers = [10, 15, 20, 25, 30]\n",
        "even_numbers = [num for num in numbers if num % 2 == 0]\n",
        "print(f\"Even Numbers: {even_numbers}\")\n"
      ],
      "metadata": {
        "id": "mz2HH0Yh2FA_"
      },
      "id": "mz2HH0Yh2FA_",
      "execution_count": null,
      "outputs": []
    },
    {
      "cell_type": "markdown",
      "source": [
        "### Slicing"
      ],
      "metadata": {
        "id": "bsd2brlq429U"
      },
      "id": "bsd2brlq429U"
    },
    {
      "cell_type": "code",
      "source": [
        "fruits = [\"apple\", \"banana\", \"cherry\", \"orange\", \"mango\"]\n",
        "\n",
        "# Extract elements from index 1 (inclusive) to 3 (exclusive)\n",
        "sub_list = fruits[1:3]\n",
        "print(f\"Sub List: {sub_list}\")\n",
        "\n",
        "# Extract elements from index 0 (inclusive) to the end\n",
        "sub_list = fruits[:3]\n",
        "print(f\"Sub List: {sub_list}\")\n",
        "\n",
        "# Extract elements from index 2 (inclusive) to the end\n",
        "sub_list = fruits[2:]\n",
        "print(f\"Sub List: {sub_list}\")\n",
        "\n",
        "# Extract all elements\n",
        "sub_list = fruits[:]\n",
        "print(f\"Sub List: {sub_list}\")\n",
        "\n",
        "# Extract every other element from the list\n",
        "sub_list = fruits[::2]\n",
        "print(f\"Sub List: {sub_list}\")\n",
        "\n",
        "# Extract elements in reverse order\n",
        "sub_list = fruits[::-1]\n",
        "print(f\"Sub List: {sub_list}\")"
      ],
      "metadata": {
        "colab": {
          "base_uri": "https://localhost:8080/"
        },
        "id": "tvcjI1Fr46QV",
        "outputId": "50a33f8e-b27a-4bbe-a4fc-650d415d5448"
      },
      "id": "tvcjI1Fr46QV",
      "execution_count": 31,
      "outputs": [
        {
          "output_type": "stream",
          "name": "stdout",
          "text": [
            "Sub List: ['banana', 'cherry']\n",
            "Sub List: ['apple', 'banana', 'cherry']\n",
            "Sub List: ['cherry', 'orange', 'mango']\n",
            "Sub List: ['apple', 'banana', 'cherry', 'orange', 'mango']\n",
            "Sub List: ['apple', 'cherry', 'mango']\n",
            "Sub List: ['mango', 'orange', 'cherry', 'banana', 'apple']\n"
          ]
        }
      ]
    },
    {
      "cell_type": "code",
      "source": [
        "# Multi-dimensional List\n",
        "matrix = [\n",
        "    [1, 2, 3],\n",
        "    [4, 5, 6],\n",
        "    [7, 8, 9]\n",
        "]\n",
        "print(f\"Matrix: {matrix}\")\n",
        "\n",
        "# Accessing Rows and Elements\n",
        "print(f\"First Row: {matrix[0]}\")\n",
        "print(f\"Element (2,3): {matrix[1][2]}\")\n"
      ],
      "metadata": {
        "colab": {
          "base_uri": "https://localhost:8080/"
        },
        "id": "XvzmSPq5dnrB",
        "outputId": "633d3f2e-84e3-4ee2-9c21-6fd75f0ede8a"
      },
      "id": "XvzmSPq5dnrB",
      "execution_count": 32,
      "outputs": [
        {
          "output_type": "stream",
          "name": "stdout",
          "text": [
            "Matrix: [[1, 2, 3], [4, 5, 6], [7, 8, 9]]\n",
            "First Row: [1, 2, 3]\n",
            "Element (2,3): 6\n"
          ]
        }
      ]
    },
    {
      "cell_type": "markdown",
      "source": [
        "\n",
        "\n",
        "\n",
        "\n",
        "#### Connecting Lists to Machine Learning\n",
        "Lists are often used in data preprocessing and manipulation tasks, which are crucial in machine learning.\n",
        "\n",
        "##### Example: Storing Features"
      ],
      "metadata": {
        "id": "qRoDTfxyd7-H"
      },
      "id": "qRoDTfxyd7-H"
    },
    {
      "cell_type": "code",
      "source": [
        "# Representing Features of a Data Point\n",
        "# Example: [Height (cm), Weight (kg), Age (years)]\n",
        "data_point = [170, 65, 25]\n",
        "print(f\"Data Point: {data_point}\")\n",
        "\n",
        "# Dataset with Multiple Data Points\n",
        "# Each sublist represents a data point: [Height, Weight, Age]\n",
        "dataset = [\n",
        "    [170, 65, 25],\n",
        "    [160, 55, 30],\n",
        "    [180, 75, 35]\n",
        "]\n",
        "\n",
        "# Accessing Data Points\n",
        "print(f\"First Data Point: {dataset[0]}\")\n",
        "\n",
        "# Calculating Average Height\n",
        "heights = [data[0] for data in dataset]\n",
        "average_height = sum(heights) / len(heights)\n",
        "print(f\"Average Height: {average_height} cm\")\n"
      ],
      "metadata": {
        "colab": {
          "base_uri": "https://localhost:8080/"
        },
        "id": "W8WkBFQseIMS",
        "outputId": "42507ad1-0c16-4e0b-e4e1-b732718d83c9"
      },
      "id": "W8WkBFQseIMS",
      "execution_count": 33,
      "outputs": [
        {
          "output_type": "stream",
          "name": "stdout",
          "text": [
            "Data Point: [170, 65, 25]\n",
            "First Data Point: [170, 65, 25]\n",
            "Average Height: 170.0 cm\n"
          ]
        }
      ]
    },
    {
      "cell_type": "markdown",
      "source": [
        "\n",
        "##### Example: Simple Normalization\n"
      ],
      "metadata": {
        "id": "zJBlvh7meXKi"
      },
      "id": "zJBlvh7meXKi"
    },
    {
      "cell_type": "code",
      "source": [
        "# Normalizing Data\n",
        "# Formula: (value - min) / (max - min)\n",
        "weights = [data[1] for data in dataset]\n",
        "min_weight = min(weights)\n",
        "max_weight = max(weights)\n",
        "normalized_weights = [(w - min_weight) / (max_weight - min_weight) for w in weights]\n",
        "print(f\"Normalized Weights: {normalized_weights}\")\n",
        "\n"
      ],
      "metadata": {
        "colab": {
          "base_uri": "https://localhost:8080/"
        },
        "id": "y4AdeTjoeeac",
        "outputId": "b80c2a4f-2edf-4adc-bde7-5141eb893e99"
      },
      "id": "y4AdeTjoeeac",
      "execution_count": 34,
      "outputs": [
        {
          "output_type": "stream",
          "name": "stdout",
          "text": [
            "Normalized Weights: [0.5, 0.0, 1.0]\n"
          ]
        }
      ]
    },
    {
      "cell_type": "markdown",
      "source": [
        "##### Example: Nested List Comprehension\n"
      ],
      "metadata": {
        "id": "7ujtBWCBei22"
      },
      "id": "7ujtBWCBei22"
    },
    {
      "cell_type": "code",
      "source": [
        "# Flattening a Multi-dimensional List\n",
        "matrix = [\n",
        "    [1, 2, 3],\n",
        "    [4, 5, 6],\n",
        "    [7, 8, 9]\n",
        "]\n",
        "flattened = [num for row in matrix for num in row]\n",
        "print(f\"Flattened Matrix: {flattened}\")\n",
        "\n",
        "# Creating a Matrix Using List Comprehension\n",
        "identity_matrix = [[1 if i == j else 0 for j in range(3)] for i in range(3)]\n",
        "print(f\"Identity Matrix: {identity_matrix}\")\n"
      ],
      "metadata": {
        "colab": {
          "base_uri": "https://localhost:8080/"
        },
        "id": "jsWEd2l7eoRp",
        "outputId": "77bb5c56-8272-4fc8-ec58-f085f98ac263"
      },
      "id": "jsWEd2l7eoRp",
      "execution_count": 35,
      "outputs": [
        {
          "output_type": "stream",
          "name": "stdout",
          "text": [
            "Flattened Matrix: [1, 2, 3, 4, 5, 6, 7, 8, 9]\n",
            "Identity Matrix: [[1, 0, 0], [0, 1, 0], [0, 0, 1]]\n"
          ]
        }
      ]
    },
    {
      "cell_type": "markdown",
      "source": [
        "## Section 5: Tuples\n",
        "\n",
        "### Explanation\n",
        "Tuples are ordered collections of items that are immutable.\n",
        "\n",
        "### Examples\n"
      ],
      "metadata": {
        "id": "nDsJQJf5fBfy"
      },
      "id": "nDsJQJf5fBfy"
    },
    {
      "cell_type": "code",
      "source": [
        "# Tuple Basics\n",
        "dimensions = (1920, 1080)\n",
        "print(dimensions)\n",
        "\n",
        "# Accessing Items\n",
        "print(dimensions[0])  # Output: 1920\n",
        "\n",
        "# Unpacking Tuples\n",
        "width, height = dimensions\n",
        "print(f\"Width: {width}, Height: {height}\")\n",
        "\n"
      ],
      "metadata": {
        "colab": {
          "base_uri": "https://localhost:8080/"
        },
        "id": "wSU5iFAsfJtk",
        "outputId": "3edb77de-71ae-4190-ce28-e6c9eeb35d36"
      },
      "id": "wSU5iFAsfJtk",
      "execution_count": 36,
      "outputs": [
        {
          "output_type": "stream",
          "name": "stdout",
          "text": [
            "(1920, 1080)\n",
            "1920\n",
            "Width: 1920, Height: 1080\n"
          ]
        }
      ]
    },
    {
      "cell_type": "code",
      "source": [
        "# Tuples in Machine Learning\n",
        "\n",
        "# Example: Representing a Data Point\n",
        "# Tuples can represent immutable data points.\n",
        "data_point = (170, 65, 25)  # Height, Weight, Age\n",
        "print(f\"Data Point: {data_point}\")\n",
        "\n",
        "# Example: Dataset with Tuples\n",
        "# Tuples can be used for read-only datasets.\n",
        "dataset = (\n",
        "    (170, 65, 25),\n",
        "    (160, 55, 30),\n",
        "    (180, 75, 35)\n",
        ")\n",
        "\n",
        "# Accessing Data Points\n",
        "print(f\"First Data Point: {dataset[0]}\")\n",
        "\n",
        "# Example: Using Tuples as Keys in Dictionaries\n",
        "# Tuples can act as keys since they are immutable.\n",
        "locations = {\n",
        "    (40.7128, -74.0060): \"New York\",\n",
        "    (34.0522, -118.2437): \"Los Angeles\",\n",
        "    (51.5074, -0.1278): \"London\"\n",
        "}\n",
        "print(locations)\n",
        "\n",
        "# Accessing Location by Coordinates\n",
        "print(locations[(40.7128, -74.0060)])\n",
        "\n",
        "# Example: Combining Tuples with Lists\n",
        "# Use tuples for fixed data and lists for dynamic.\n",
        "ml_data = [\n",
        "    (\"Sample1\", [1.2, 3.4, 5.6]),\n",
        "    (\"Sample2\", [7.8, 9.0, 1.2])\n",
        "]\n",
        "print(ml_data)\n",
        "\n",
        "# Updating Data in the List within Tuple\n",
        "ml_data[0][1].append(7.8)\n",
        "print(ml_data)\n"
      ],
      "metadata": {
        "colab": {
          "base_uri": "https://localhost:8080/"
        },
        "id": "B225K_XbfTmp",
        "outputId": "d8cd2679-9b20-4278-d1be-57758f4de4f3"
      },
      "id": "B225K_XbfTmp",
      "execution_count": 37,
      "outputs": [
        {
          "output_type": "stream",
          "name": "stdout",
          "text": [
            "Data Point: (170, 65, 25)\n",
            "First Data Point: (170, 65, 25)\n",
            "{(40.7128, -74.006): 'New York', (34.0522, -118.2437): 'Los Angeles', (51.5074, -0.1278): 'London'}\n",
            "New York\n",
            "[('Sample1', [1.2, 3.4, 5.6]), ('Sample2', [7.8, 9.0, 1.2])]\n",
            "[('Sample1', [1.2, 3.4, 5.6, 7.8]), ('Sample2', [7.8, 9.0, 1.2])]\n"
          ]
        }
      ]
    },
    {
      "cell_type": "markdown",
      "id": "311148eb",
      "metadata": {
        "id": "311148eb"
      },
      "source": [
        "\n",
        "## Section 6: Dictionaries\n",
        "\n",
        "### Explanation\n",
        "Dictionaries store key-value pairs. They are versatile and allow efficient data retrieval. Keys in dictionaries must be unique and immutable, while values can be any data type.\n",
        "\n",
        "### Examples\n",
        "\n"
      ]
    },
    {
      "cell_type": "code",
      "source": [
        "#### Basic Operations\n",
        "# Dictionary Basics\n",
        "person = {\"name\": \"Musavir\", \"age\": 25, \"city\": \"New York\"}\n",
        "print(person)\n",
        "\n",
        "# Accessing Values\n",
        "print(person[\"name\"])\n",
        "\n",
        "# Adding Key-Value Pairs\n",
        "person[\"job\"] = \"Developer\"\n",
        "print(person)\n",
        "\n",
        "# Removing Key-Value Pairs\n",
        "del person[\"age\"]\n",
        "print(person)\n",
        "\n"
      ],
      "metadata": {
        "colab": {
          "base_uri": "https://localhost:8080/"
        },
        "id": "QaieGaANgBvE",
        "outputId": "f952b4ec-a7b8-4e1c-8e06-47b8cc6091f6"
      },
      "id": "QaieGaANgBvE",
      "execution_count": 40,
      "outputs": [
        {
          "output_type": "stream",
          "name": "stdout",
          "text": [
            "{'name': 'Musavir', 'age': 25, 'city': 'New York'}\n",
            "Musavir\n",
            "{'name': 'Musavir', 'age': 25, 'city': 'New York', 'job': 'Developer'}\n",
            "{'name': 'Musavir', 'city': 'New York', 'job': 'Developer'}\n"
          ]
        }
      ]
    },
    {
      "cell_type": "markdown",
      "source": [
        "#### Advanced Examples\n"
      ],
      "metadata": {
        "id": "oNZ4_v0agSg1"
      },
      "id": "oNZ4_v0agSg1"
    },
    {
      "cell_type": "code",
      "source": [
        "# Iterating Through a Dictionary\n",
        "for key, value in person.items():\n",
        "    print(f\"{key}: {value}\")\n",
        "\n",
        "# Checking Key Existence\n",
        "if \"city\" in person:\n",
        "    print(f\"City: {person['city']}\")\n",
        "\n",
        "# Nested Dictionaries\n",
        "student = {\n",
        "    \"name\": \"Ali\",\n",
        "    \"grades\": {\"math\": 85, \"science\": 90, \"history\": 78},\n",
        "    \"attendance\": 95\n",
        "}\n",
        "print(student)\n",
        "print(f\"Math Grade: {student['grades']['math']}\")\n",
        "\n"
      ],
      "metadata": {
        "id": "glcR9ZPSga4D",
        "colab": {
          "base_uri": "https://localhost:8080/"
        },
        "outputId": "45b64134-a5d1-4281-a4f6-df232bee88ed"
      },
      "id": "glcR9ZPSga4D",
      "execution_count": 42,
      "outputs": [
        {
          "output_type": "stream",
          "name": "stdout",
          "text": [
            "name: Musavir\n",
            "city: New York\n",
            "job: Developer\n",
            "City: New York\n",
            "{'name': 'Ali', 'grades': {'math': 85, 'science': 90, 'history': 78}, 'attendance': 95}\n",
            "Math Grade: 85\n"
          ]
        }
      ]
    },
    {
      "cell_type": "code",
      "source": [
        "# Using Dictionaries in Machine Learning\n",
        "# Example: Representing a Data Point with Features\n",
        "feature_vector = {\n",
        "    \"height\": 170,\n",
        "    \"weight\": 65,\n",
        "    \"age\": 25,\n",
        "    \"gender\": \"male\"\n",
        "}\n",
        "print(f\"Feature Vector: {feature_vector}\")\n",
        "\n",
        "# Example: Storing a Dataset\n",
        "# Each dictionary represents a data point.\n",
        "dataset = [\n",
        "    {\"height\": 170, \"weight\": 65, \"age\": 25},\n",
        "    {\"height\": 160, \"weight\": 55, \"age\": 30},\n",
        "    {\"height\": 180, \"weight\": 75, \"age\": 35}\n",
        "]\n",
        "\n",
        "# Accessing Dataset Information\n",
        "for data in dataset:\n",
        "    print(f\"Height: {data['height']}, Weight: {data['weight']}\")\n",
        "\n",
        "# Example: Calculating Average Age\n",
        "average_age = sum(data[\"age\"] for data in dataset) / len(dataset)\n",
        "print(f\"Average Age: {average_age}\")\n",
        "\n",
        "\n",
        "\n",
        "\n"
      ],
      "metadata": {
        "id": "kuoNoPm0glqt",
        "colab": {
          "base_uri": "https://localhost:8080/"
        },
        "outputId": "8e8becd7-ce43-4893-8105-342ae4718218"
      },
      "id": "kuoNoPm0glqt",
      "execution_count": 47,
      "outputs": [
        {
          "output_type": "stream",
          "name": "stdout",
          "text": [
            "Feature Vector: {'height': 170, 'weight': 65, 'age': 25, 'gender': 'male'}\n",
            "Height: 170, Weight: 65\n",
            "Height: 160, Weight: 55\n",
            "Height: 180, Weight: 75\n",
            "Average Age: 30.0\n"
          ]
        }
      ]
    },
    {
      "cell_type": "markdown",
      "source": [
        "### Dictionaries for Encoding Labels\n"
      ],
      "metadata": {
        "id": "p2nQO3_y_XAC"
      },
      "id": "p2nQO3_y_XAC"
    },
    {
      "cell_type": "code",
      "source": [
        "# Example: Label Encoding\n",
        "label_mapping = {\"cat\": 0, \"dog\": 1, \"rabbit\": 2}\n",
        "labels = [\"cat\", \"dog\", \"rabbit\", \"dog\"]\n",
        "encoded_labels = [label_mapping[label] for label in labels]\n",
        "print(f\"Encoded Labels: {encoded_labels}\")"
      ],
      "metadata": {
        "colab": {
          "base_uri": "https://localhost:8080/"
        },
        "id": "4r8gV0f__LOf",
        "outputId": "8c0cbb02-2d79-4974-9997-3520d282573a"
      },
      "id": "4r8gV0f__LOf",
      "execution_count": 44,
      "outputs": [
        {
          "output_type": "stream",
          "name": "stdout",
          "text": [
            "Encoded Labels: [0, 1, 2, 1]\n"
          ]
        }
      ]
    },
    {
      "cell_type": "markdown",
      "source": [
        "### Dictionaries for Frequency Count\n"
      ],
      "metadata": {
        "id": "4-3xW9Qa_iX8"
      },
      "id": "4-3xW9Qa_iX8"
    },
    {
      "cell_type": "code",
      "source": [
        "text = \"machine learning is fascinating\"\n",
        "word_count = {}\n",
        "for word in text.split():\n",
        "    word_count[word] = word_count.get(word, 0) + 1\n",
        "print(f\"Word Count: {word_count}\")"
      ],
      "metadata": {
        "colab": {
          "base_uri": "https://localhost:8080/"
        },
        "id": "_jfV7xqi_asx",
        "outputId": "6fc5c42d-1daf-4341-8d3b-83c870b6326a"
      },
      "id": "_jfV7xqi_asx",
      "execution_count": 46,
      "outputs": [
        {
          "output_type": "stream",
          "name": "stdout",
          "text": [
            "Word Count: {'machine': 1, 'learning': 1, 'is': 1, 'fascinating': 1}\n"
          ]
        }
      ]
    },
    {
      "cell_type": "code",
      "source": [],
      "metadata": {
        "id": "6-fkyEnd_lj5"
      },
      "id": "6-fkyEnd_lj5",
      "execution_count": null,
      "outputs": []
    }
  ],
  "metadata": {
    "colab": {
      "provenance": [],
      "include_colab_link": true
    },
    "language_info": {
      "name": "python"
    },
    "kernelspec": {
      "name": "python3",
      "display_name": "Python 3"
    }
  },
  "nbformat": 4,
  "nbformat_minor": 5
}