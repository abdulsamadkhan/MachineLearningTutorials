{
  "cells": [
    {
      "cell_type": "markdown",
      "metadata": {
        "id": "view-in-github",
        "colab_type": "text"
      },
      "source": [
        "<a href=\"https://colab.research.google.com/github/abdulsamadkhan/MachineLearningTutorials/blob/main/Introduction%20to%20numpy.ipynb\" target=\"_parent\"><img src=\"https://colab.research.google.com/assets/colab-badge.svg\" alt=\"Open In Colab\"/></a>"
      ]
    },
    {
      "cell_type": "markdown",
      "metadata": {
        "id": "__msdPoog5O8"
      },
      "source": [
        "## Numpy Basics\n",
        "### Dr. Abdul Samad"
      ]
    },
    {
      "cell_type": "markdown",
      "metadata": {
        "id": "FOQIsZNmg5PA"
      },
      "source": [
        "# Overview\n",
        "In this lab, we will go over the fundamentals of Numpy. We'll start with data manipulation and then move on to numpy methods and operators.\n",
        "\n",
        "Objectives:\n",
        "1) Understanding the Basic of numpy Library for Deep Learning\n",
        "2) Applying numpy operations on different tensors"
      ]
    },
    {
      "cell_type": "markdown",
      "metadata": {
        "id": "Ij3-uULEg5PB"
      },
      "source": [
        "# Setup"
      ]
    },
    {
      "cell_type": "code",
      "execution_count": 1,
      "metadata": {
        "id": "r69mUGWMntza",
        "outputId": "ce49f649-367c-4791-cfcd-09626ccf8f7d",
        "colab": {
          "base_uri": "https://localhost:8080/",
          "height": 36
        }
      },
      "outputs": [
        {
          "output_type": "execute_result",
          "data": {
            "text/plain": [
              "'1.26.4'"
            ],
            "application/vnd.google.colaboratory.intrinsic+json": {
              "type": "string"
            }
          },
          "metadata": {},
          "execution_count": 1
        }
      ],
      "source": [
        "# Import numpy using the alias np\n",
        "import numpy as np\n",
        "from PIL import Image\n",
        "np.__version__"
      ]
    },
    {
      "cell_type": "markdown",
      "metadata": {
        "id": "ddCInS7lg5PE"
      },
      "source": [
        "# 1 - Data Manipulation"
      ]
    },
    {
      "cell_type": "markdown",
      "metadata": {
        "id": "zP0_gG75ntzc"
      },
      "source": [
        "A tensor represents a (possibly multi-dimensional) array of numerical values. With one axis, a tensor corresponds (in math) to a vector. With two axes, a tensor corresponds to a matrix. Tensors with more than two axes do not have special mathematical names.\n"
      ]
    },
    {
      "cell_type": "markdown",
      "metadata": {
        "id": "IW-O9IRGntzd"
      },
      "source": [
        "## Creating Numpy Arrays-Matrices-Tensors"
      ]
    },
    {
      "cell_type": "markdown",
      "metadata": {
        "id": "o1UUtXf-ntze"
      },
      "source": [
        "We can use arange to create a row vector x containing the first 12 integers starting with 0, though they are created as floats by default. Each of the values in a tensor is called an element of the tensor. For instance, there are 12 elements in the tensor x. Unless otherwise specified, a new tensor will be stored in main memory and designated for CPU-based computation.\n",
        "<h3><center>Representation of Creating Vectors</center></h3>\n",
        "\n",
        "\n",
        "<center>\n",
        "\n",
        "![picture](https://drive.google.com/uc?export=view&id=1OLcGvESSr-QDJh6yEf_wHKriLde78EVk)\n",
        "\n",
        "</center>\n",
        "\n"
      ]
    },
    {
      "cell_type": "markdown",
      "source": [
        "\n",
        "\n"
      ],
      "metadata": {
        "id": "sHwsoMyhlBvC"
      }
    },
    {
      "cell_type": "code",
      "execution_count": 2,
      "metadata": {
        "id": "SwSmzTarntze",
        "outputId": "8a555d48-ead6-41fc-ad3f-39685ea4b79e",
        "colab": {
          "base_uri": "https://localhost:8080/"
        }
      },
      "outputs": [
        {
          "output_type": "execute_result",
          "data": {
            "text/plain": [
              "array([ 0,  1,  2,  3,  4,  5,  6,  7,  8,  9, 10, 11])"
            ]
          },
          "metadata": {},
          "execution_count": 2
        }
      ],
      "source": [
        "x = np.arange(12)\n",
        "x"
      ]
    },
    {
      "cell_type": "markdown",
      "metadata": {
        "id": "GbLqIJHtntzg"
      },
      "source": [
        "We can access a tensor’s shape (the length along each axis) by inspecting its shape property."
      ]
    },
    {
      "cell_type": "code",
      "execution_count": 3,
      "metadata": {
        "id": "YMjsmrpFntzi",
        "outputId": "7e848bd8-dded-4890-8d18-2863d2aa0f57",
        "colab": {
          "base_uri": "https://localhost:8080/"
        }
      },
      "outputs": [
        {
          "output_type": "execute_result",
          "data": {
            "text/plain": [
              "(12,)"
            ]
          },
          "metadata": {},
          "execution_count": 3
        }
      ],
      "source": [
        "x.shape"
      ]
    },
    {
      "cell_type": "markdown",
      "metadata": {
        "id": "FKrqDQC2ntzj"
      },
      "source": [
        "If we just want to know the total number of elements in a tensor, i.e., the product of all of the shape elements, we can inspect its size. Because we are dealing with a vector here, the single element of its shape is identical to its size."
      ]
    },
    {
      "cell_type": "code",
      "execution_count": 4,
      "metadata": {
        "id": "ifljJ1LNntzk",
        "outputId": "612a4970-191f-4445-e010-c68ce863d82f",
        "colab": {
          "base_uri": "https://localhost:8080/"
        }
      },
      "outputs": [
        {
          "output_type": "execute_result",
          "data": {
            "text/plain": [
              "12"
            ]
          },
          "metadata": {},
          "execution_count": 4
        }
      ],
      "source": [
        "x.size"
      ]
    },
    {
      "cell_type": "markdown",
      "metadata": {
        "id": "UJDo8tDOntzk"
      },
      "source": [
        "To change the shape of a tensor without altering either the number of elements or their values, we can invoke the reshape function. For example, we can transform our tensor, x, from a row vector with shape (12,) to a matrix with shape (3, 4). This new tensor contains the exact same values, but views them as a matrix organized as 3 rows and 4 columns. To reiterate, although the shape has changed, the elements have not. Note that the size is unaltered by reshaping. Notice that when we use matrices we also use capital letters.\n",
        "\n",
        "<h3><center>Reshaping Representation</center></h3>\n",
        "\n",
        "\n",
        "<center>\n",
        "\n",
        "![picture](https://drive.google.com/uc?export=view&id=1EkvDoRCCUOY-8RauwZmCCvQPy76Uiw1I)\n",
        "\n",
        "</center>\n",
        "\n"
      ]
    },
    {
      "cell_type": "code",
      "execution_count": 5,
      "metadata": {
        "id": "_22GrCkLntzl",
        "outputId": "1f41e841-f01a-4233-e890-cca1bcea3871",
        "colab": {
          "base_uri": "https://localhost:8080/"
        }
      },
      "outputs": [
        {
          "output_type": "execute_result",
          "data": {
            "text/plain": [
              "(3, 4)"
            ]
          },
          "metadata": {},
          "execution_count": 5
        }
      ],
      "source": [
        "X = x.reshape(3, 4)\n",
        "X.shape"
      ]
    },
    {
      "cell_type": "markdown",
      "metadata": {
        "id": "Pd8aS3Vrg5Pa"
      },
      "source": [
        "Furthemore, Numpy also provides the option of transposing a array-matrix-tensor.\n",
        "\n",
        "<h3><center>Transpose Representation</center></h3>\n",
        "\n",
        "<div>\n",
        "<center>\n",
        "\n",
        "![picture](https://drive.google.com/uc?export=view&id=1Y_PhOEj-anuJAIuvwRH5NN0zEdSVNDFX)\n",
        "\n",
        "</center>\n",
        "</div>\n",
        "\n",
        "\n",
        "\n"
      ]
    },
    {
      "cell_type": "code",
      "execution_count": 6,
      "metadata": {
        "id": "yb7AkUNHg5Pb",
        "outputId": "afd78806-e6fb-48f3-e5aa-5d0a2b92850e",
        "colab": {
          "base_uri": "https://localhost:8080/"
        }
      },
      "outputs": [
        {
          "output_type": "execute_result",
          "data": {
            "text/plain": [
              "array([[0, 5],\n",
              "       [1, 6],\n",
              "       [2, 7],\n",
              "       [3, 8],\n",
              "       [4, 9]])"
            ]
          },
          "metadata": {},
          "execution_count": 6
        }
      ],
      "source": [
        "np.arange(0,10).reshape((2,5)).T"
      ]
    },
    {
      "cell_type": "markdown",
      "metadata": {
        "id": "bYl-VxY5ntzl"
      },
      "source": [
        "In some scenarios we may require a array-matrix-tensor of all ones or zero. We can easily create them use the \"ones\" and \"zeros\" method.\n",
        "\n",
        "<h3><center>Creating vectors with 0s or 1s or random values</center></h3>\n",
        "\n",
        "<div>\n",
        "<center>\n",
        "\n",
        "![picture](https://drive.google.com/uc?export=view&id=1u9Y8IsLzUmvR7IRuUtccGEx0FybdePXA)\n",
        "\n",
        "</center>\n",
        "</div>\n",
        "\n"
      ]
    },
    {
      "cell_type": "code",
      "execution_count": 7,
      "metadata": {
        "id": "NnzsHADVntzm",
        "outputId": "c909db94-800d-4ed1-f966-35a205d2fd2a",
        "colab": {
          "base_uri": "https://localhost:8080/"
        }
      },
      "outputs": [
        {
          "output_type": "execute_result",
          "data": {
            "text/plain": [
              "array([[0., 0., 0., 0., 0., 0., 0.],\n",
              "       [0., 0., 0., 0., 0., 0., 0.]])"
            ]
          },
          "metadata": {},
          "execution_count": 7
        }
      ],
      "source": [
        "X = np.zeros((2, 7))\n",
        "X"
      ]
    },
    {
      "cell_type": "code",
      "execution_count": 8,
      "metadata": {
        "id": "TtBWmQeQntzm",
        "outputId": "534d55eb-4aec-4942-8a72-6f0619defb76",
        "colab": {
          "base_uri": "https://localhost:8080/"
        }
      },
      "outputs": [
        {
          "output_type": "execute_result",
          "data": {
            "text/plain": [
              "array([[1., 1., 1., 1., 1., 1., 1.],\n",
              "       [1., 1., 1., 1., 1., 1., 1.],\n",
              "       [1., 1., 1., 1., 1., 1., 1.],\n",
              "       [1., 1., 1., 1., 1., 1., 1.]])"
            ]
          },
          "metadata": {},
          "execution_count": 8
        }
      ],
      "source": [
        "X = np.ones((4, 7))\n",
        "X"
      ]
    },
    {
      "cell_type": "markdown",
      "metadata": {
        "id": "uI3VI_Wpg5Pc"
      },
      "source": [
        "We can also construct special matrices such as the Diagonal and Identity Matrx."
      ]
    },
    {
      "cell_type": "code",
      "execution_count": 9,
      "metadata": {
        "id": "GUwhjTfAg5Pc",
        "outputId": "2de6a563-c59f-4ab4-d706-09886d8ce2e8",
        "colab": {
          "base_uri": "https://localhost:8080/"
        }
      },
      "outputs": [
        {
          "output_type": "execute_result",
          "data": {
            "text/plain": [
              "array([[2, 0, 0],\n",
              "       [0, 3, 0],\n",
              "       [0, 0, 4]])"
            ]
          },
          "metadata": {},
          "execution_count": 9
        }
      ],
      "source": [
        "D = np.diag([2,3,4])\n",
        "D"
      ]
    },
    {
      "cell_type": "code",
      "execution_count": 10,
      "metadata": {
        "id": "kWUMvIxKg5Pd",
        "outputId": "56b33c4d-dd8c-4c96-90d0-f32e5f99c181",
        "colab": {
          "base_uri": "https://localhost:8080/"
        }
      },
      "outputs": [
        {
          "output_type": "execute_result",
          "data": {
            "text/plain": [
              "array([[1., 0., 0.],\n",
              "       [0., 1., 0.],\n",
              "       [0., 0., 1.]])"
            ]
          },
          "metadata": {},
          "execution_count": 10
        }
      ],
      "source": [
        "I = np.eye(3)\n",
        "I"
      ]
    },
    {
      "cell_type": "markdown",
      "metadata": {
        "id": "FKV2iRX9ntzm"
      },
      "source": [
        "To create tensor we just add an extra dimension to the shape of numpy object. Lets make a 3x3x3 tensor of all ones."
      ]
    },
    {
      "cell_type": "code",
      "execution_count": 11,
      "metadata": {
        "id": "vxGugBfVg5Pe",
        "outputId": "7ba42bfa-4dda-42d0-8bb4-1a36813e908d",
        "colab": {
          "base_uri": "https://localhost:8080/"
        }
      },
      "outputs": [
        {
          "output_type": "stream",
          "name": "stdout",
          "text": [
            "[[1. 1. 1.]\n",
            " [1. 1. 1.]\n",
            " [1. 1. 1.]]\n"
          ]
        }
      ],
      "source": [
        "a = np.ones((3,3))\n",
        "print(a)"
      ]
    },
    {
      "cell_type": "markdown",
      "metadata": {
        "id": "odp1BIu3ntzn"
      },
      "source": [
        "Often, we want to randomly sample the values for each element in a tensor from some probability distribution. For example, when we construct arrays to serve as parameters in a neural network, we will typically initialize their values randomly. The following snippet creates a tensor with shape (3, 4). Each of its elements is randomly sampled from a standard Gaussian (normal) distribution with a mean of 0 and a standard deviation of 1. We can see that every time we run this cell it creates new random numbers."
      ]
    },
    {
      "cell_type": "code",
      "execution_count": 12,
      "metadata": {
        "id": "F1x6N7kentzn",
        "outputId": "738b4ff5-0b41-4869-9392-bca509551422",
        "colab": {
          "base_uri": "https://localhost:8080/"
        }
      },
      "outputs": [
        {
          "output_type": "execute_result",
          "data": {
            "text/plain": [
              "array([[-0.61212741,  1.42631044, -0.27430183, -0.22858443],\n",
              "       [ 1.62282701,  0.55724944, -0.35702507, -0.23735307],\n",
              "       [ 0.29917683, -1.62514976, -0.95773774,  0.20997911]])"
            ]
          },
          "metadata": {},
          "execution_count": 12
        }
      ],
      "source": [
        "np.random.normal(0, 1, size=(3, 4))"
      ]
    },
    {
      "cell_type": "markdown",
      "metadata": {
        "id": "N3Iit9SKg5Pf"
      },
      "source": [
        "Numpy also provides options to sample from other distributions such as the uniform distribution."
      ]
    },
    {
      "cell_type": "code",
      "execution_count": 13,
      "metadata": {
        "id": "8HmG0eqgg5Pf",
        "outputId": "e99bae63-9747-4f2d-f53e-0968ec9676b5",
        "colab": {
          "base_uri": "https://localhost:8080/"
        }
      },
      "outputs": [
        {
          "output_type": "execute_result",
          "data": {
            "text/plain": [
              "array([[0.11898136, 0.67647224, 0.73653607, 0.09829439, 0.63155821],\n",
              "       [0.51570937, 0.0751232 , 0.67672966, 0.41643213, 0.04895624],\n",
              "       [0.51960202, 0.12714121, 0.29928434, 0.64157312, 0.34721411],\n",
              "       [0.59056063, 0.76493867, 0.72404256, 0.25309278, 0.0268288 ],\n",
              "       [0.91418512, 0.34795739, 0.78236056, 0.1564448 , 0.76967951]])"
            ]
          },
          "metadata": {},
          "execution_count": 13
        }
      ],
      "source": [
        "np.random.rand(5,5)"
      ]
    },
    {
      "cell_type": "markdown",
      "source": [
        "The np.random.random((5, 5)) function in NumPy generates random numbers from a continuous uniform distribution between 0 (inclusive) and 1 (exclusive)."
      ],
      "metadata": {
        "id": "db_DapsNrYiu"
      }
    },
    {
      "cell_type": "code",
      "source": [
        "np.random.random((5, 5))"
      ],
      "metadata": {
        "colab": {
          "base_uri": "https://localhost:8080/"
        },
        "id": "Qj_vtRB-raL1",
        "outputId": "e371d855-e1bc-4349-d5d4-c2690c0b0a2b"
      },
      "execution_count": 14,
      "outputs": [
        {
          "output_type": "execute_result",
          "data": {
            "text/plain": [
              "array([[0.58071548, 0.2582413 , 0.16833581, 0.15371455, 0.01243292],\n",
              "       [0.15705873, 0.94436715, 0.46228955, 0.2621312 , 0.83942946],\n",
              "       [0.01311216, 0.3946016 , 0.52019141, 0.38728131, 0.22308795],\n",
              "       [0.75844847, 0.39773339, 0.33200972, 0.88303885, 0.11486004],\n",
              "       [0.7301666 , 0.803963  , 0.87336251, 0.27869476, 0.92663686]])"
            ]
          },
          "metadata": {},
          "execution_count": 14
        }
      ]
    },
    {
      "cell_type": "markdown",
      "source": [
        "\n",
        "**Argument Handling:** np.random.rand() takes individual integers for dimensions, while np.random.random() and np.random.uniform() take a single tuple for the size argument.\n",
        "**Flexibility:** np.random.uniform() offers the most flexibility by allowing you to specify custom low and high values for the range of random numbers."
      ],
      "metadata": {
        "id": "adVIBNDssGHd"
      }
    },
    {
      "cell_type": "code",
      "execution_count": 15,
      "metadata": {
        "id": "D6fNlYjTg5Pg",
        "outputId": "201cbe18-dd77-4c7b-cf00-6905f66b9aed",
        "colab": {
          "base_uri": "https://localhost:8080/"
        }
      },
      "outputs": [
        {
          "output_type": "execute_result",
          "data": {
            "text/plain": [
              "array([[-2.85241893, -2.92981756,  3.78637368, -2.16634634,  2.2625066 ],\n",
              "       [-3.2600564 , -0.53531664,  0.43610768,  1.15918996,  3.77045527],\n",
              "       [-3.24547281, -3.71197881, -1.07221625,  1.60348965, -2.46123134],\n",
              "       [ 2.56110828,  2.53188271, -0.81053523, -3.5227282 , -0.13885363],\n",
              "       [-1.78848593, -0.70568545, -0.59875262, -3.68551526,  1.62190869]])"
            ]
          },
          "metadata": {},
          "execution_count": 15
        }
      ],
      "source": [
        "np.random.uniform(low=-4, high=4,size=(5,5))"
      ]
    },
    {
      "cell_type": "code",
      "execution_count": 16,
      "metadata": {
        "id": "sSRfbi9Tg5Pg",
        "outputId": "cf2690cd-e52b-4b3c-87e5-0bc26bc7a2ad",
        "colab": {
          "base_uri": "https://localhost:8080/"
        }
      },
      "outputs": [
        {
          "output_type": "execute_result",
          "data": {
            "text/plain": [
              "array([[97, 48, 53, 49, 14],\n",
              "       [51, 95, 32,  3,  9],\n",
              "       [64, 12, 98, 89, 80],\n",
              "       [24, 21, 55, 54, 82],\n",
              "       [20,  8, 96, 55,  8]])"
            ]
          },
          "metadata": {},
          "execution_count": 16
        }
      ],
      "source": [
        "np.random.randint(low=0,high=100,size=(5,5))"
      ]
    },
    {
      "cell_type": "markdown",
      "metadata": {
        "id": "Zsn2EysDntzo"
      },
      "source": [
        "## Indexing and Slicing"
      ]
    },
    {
      "cell_type": "markdown",
      "metadata": {
        "id": "EUZKwFC7ntzo"
      },
      "source": [
        "Just as in any other Python array, elements in a tensor can be accessed by index. As in any Python array, the first element has index 0 and ranges are specified to include the first but before the last element. As in standard Python lists, we can access elements according to their relative position to the end of the list by using negative indices.\n",
        "\n",
        "Thus, [-1] selects the last element and [1:3] selects the second and the third elements as follows:\n",
        "\n",
        "<h3><center>Indexing</center></h3>\n",
        "\n",
        "<div>\n",
        "<center>\n",
        "\n",
        "![picture](https://drive.google.com/uc?export=view&id=1hfN2Xf9ZPlwuFaecLCNUgwkX8HxWFJNB)\n",
        "\n",
        "</center>\n",
        "</div>\n",
        "\n",
        "\n"
      ]
    },
    {
      "cell_type": "code",
      "execution_count": 17,
      "metadata": {
        "colab": {
          "base_uri": "https://localhost:8080/"
        },
        "id": "CmiaY2J0ntzo",
        "outputId": "dc6afa05-ec57-401d-a2db-2b83dfd16a75"
      },
      "outputs": [
        {
          "output_type": "execute_result",
          "data": {
            "text/plain": [
              "(array([[1, 2],\n",
              "        [3, 4],\n",
              "        [5, 6]]),\n",
              " array([5, 6]),\n",
              " 2,\n",
              " array([[3, 4],\n",
              "        [5, 6]]),\n",
              " array([1, 3]))"
            ]
          },
          "metadata": {},
          "execution_count": 17
        }
      ],
      "source": [
        "X = np.arange(1,7).reshape(3, 2)\n",
        "X,X[-1], X[0,1],X[1:3],X[0:2,0]"
      ]
    },
    {
      "cell_type": "markdown",
      "metadata": {
        "id": "OoqRwcEOntzp"
      },
      "source": [
        "If we want to assign multiple elements the same value, we simply index all of them and then assign them the value. For instance, [0:2, :] accesses the first and second rows, where : takes all the elements along axis 1 (column). While we discussed indexing for matrices, this obviously also works for vectors and for tensors of more than 2 dimensions."
      ]
    },
    {
      "cell_type": "code",
      "execution_count": 18,
      "metadata": {
        "id": "oHxZZmBvntzp",
        "outputId": "00c0a6a5-e6a0-4472-b965-96a02ba61bda",
        "colab": {
          "base_uri": "https://localhost:8080/"
        }
      },
      "outputs": [
        {
          "output_type": "execute_result",
          "data": {
            "text/plain": [
              "array([[12, 12],\n",
              "       [12, 12],\n",
              "       [ 5,  6]])"
            ]
          },
          "metadata": {},
          "execution_count": 18
        }
      ],
      "source": [
        "X[0:2, :] = 12\n",
        "X"
      ]
    },
    {
      "cell_type": "markdown",
      "metadata": {
        "id": "9IX-Cslog5Pi"
      },
      "source": [
        "In addition to specifying the bounds for accessing the array, we can also specify the stepsize."
      ]
    },
    {
      "cell_type": "code",
      "execution_count": 19,
      "metadata": {
        "id": "4n0iDtIlg5Pi",
        "outputId": "54609596-338e-44bf-b885-82ff6b70d11f",
        "colab": {
          "base_uri": "https://localhost:8080/"
        }
      },
      "outputs": [
        {
          "output_type": "stream",
          "name": "stdout",
          "text": [
            "[[0.0822709  0.1016529  0.84779113 0.92610036 0.90516713]\n",
            " [0.83599472 0.99501661 0.00355534 0.31726257 0.17488972]\n",
            " [0.78132898 0.14256511 0.46310503 0.65690392 0.39616225]\n",
            " [0.76972591 0.30551736 0.47706187 0.10547774 0.93396916]\n",
            " [0.10324308 0.45570027 0.53690224 0.8054076  0.53317544]]\n"
          ]
        }
      ],
      "source": [
        "r = np.random.rand(5,5)\n",
        "print(r)\n"
      ]
    },
    {
      "cell_type": "markdown",
      "metadata": {
        "id": "_7V36ej2g5Pu"
      },
      "source": [
        "Here we are accessing all the rows, but only columns 0,2 and because 4 is the maximum bound and 2 is step size."
      ]
    },
    {
      "cell_type": "code",
      "execution_count": 20,
      "metadata": {
        "id": "ulI0JAokg5Pu",
        "outputId": "625ccbab-e487-4cc3-fd97-80db9752b583",
        "colab": {
          "base_uri": "https://localhost:8080/"
        }
      },
      "outputs": [
        {
          "output_type": "execute_result",
          "data": {
            "text/plain": [
              "array([[0.0822709 , 0.84779113],\n",
              "       [0.83599472, 0.00355534],\n",
              "       [0.78132898, 0.46310503],\n",
              "       [0.76972591, 0.47706187],\n",
              "       [0.10324308, 0.53690224]])"
            ]
          },
          "metadata": {},
          "execution_count": 20
        }
      ],
      "source": [
        "r[:,0:4:2]"
      ]
    },
    {
      "cell_type": "markdown",
      "metadata": {
        "id": "Q75E9pmUg5Pu"
      },
      "source": [
        "We can also perform the above operation by using `np.arange` instead of providing the indices."
      ]
    },
    {
      "cell_type": "code",
      "execution_count": 21,
      "metadata": {
        "id": "JTg84xCMg5Pv",
        "outputId": "1267663a-ec3d-4591-b59c-4a6f30edaf8e",
        "colab": {
          "base_uri": "https://localhost:8080/"
        }
      },
      "outputs": [
        {
          "output_type": "execute_result",
          "data": {
            "text/plain": [
              "array([[0.0822709 , 0.84779113],\n",
              "       [0.83599472, 0.00355534],\n",
              "       [0.78132898, 0.46310503],\n",
              "       [0.76972591, 0.47706187],\n",
              "       [0.10324308, 0.53690224]])"
            ]
          },
          "metadata": {},
          "execution_count": 21
        }
      ],
      "source": [
        "r[:,np.arange(0,4,2)]"
      ]
    },
    {
      "cell_type": "markdown",
      "metadata": {
        "id": "yBCElBv8g5Pv"
      },
      "source": [
        "## Utilizing what we Learned uptil now\n",
        "\n",
        "We can use the skills that we have learned up until now to create a checkerboard."
      ]
    },
    {
      "cell_type": "code",
      "execution_count": 22,
      "metadata": {
        "id": "BNpA_4Glg5Pv",
        "outputId": "a60324b2-75fa-491e-ae1d-0f29917ac351",
        "colab": {
          "base_uri": "https://localhost:8080/"
        }
      },
      "outputs": [
        {
          "output_type": "stream",
          "name": "stdout",
          "text": [
            "[[0. 0. 0. 0. 0. 0. 0. 0.]\n",
            " [1. 0. 1. 0. 1. 0. 1. 0.]\n",
            " [0. 0. 0. 0. 0. 0. 0. 0.]\n",
            " [1. 0. 1. 0. 1. 0. 1. 0.]\n",
            " [0. 0. 0. 0. 0. 0. 0. 0.]\n",
            " [1. 0. 1. 0. 1. 0. 1. 0.]\n",
            " [0. 0. 0. 0. 0. 0. 0. 0.]\n",
            " [1. 0. 1. 0. 1. 0. 1. 0.]]\n",
            "[[0. 1. 0. 1. 0. 1. 0. 1.]\n",
            " [1. 0. 1. 0. 1. 0. 1. 0.]\n",
            " [0. 1. 0. 1. 0. 1. 0. 1.]\n",
            " [1. 0. 1. 0. 1. 0. 1. 0.]\n",
            " [0. 1. 0. 1. 0. 1. 0. 1.]\n",
            " [1. 0. 1. 0. 1. 0. 1. 0.]\n",
            " [0. 1. 0. 1. 0. 1. 0. 1.]\n",
            " [1. 0. 1. 0. 1. 0. 1. 0.]]\n"
          ]
        }
      ],
      "source": [
        "# Create a checkerboard\n",
        "z = np.zeros((8,8))\n",
        "# Start from the second row, and skip every alternate row.\n",
        "# Start from the first column, and skip every alternate column.\n",
        "z[1::2,::2]=1\n",
        "print(z)\n",
        "\n",
        "# Start from the first row, and skip every alternate row.\n",
        "# Start from the second column, and skip every alternate column.\n",
        "z[::2,1::2]=1\n",
        "print(z)"
      ]
    },
    {
      "cell_type": "markdown",
      "metadata": {
        "id": "9XLEWpVFg5Pv"
      },
      "source": [
        "We can also add a border of zeros to a matrix of ones."
      ]
    },
    {
      "cell_type": "code",
      "execution_count": 23,
      "metadata": {
        "id": "VsizxwDjg5Pw",
        "outputId": "ad7c04ae-b654-42c4-9356-909b519fcfb9",
        "colab": {
          "base_uri": "https://localhost:8080/"
        }
      },
      "outputs": [
        {
          "output_type": "stream",
          "name": "stdout",
          "text": [
            "[[0. 1. 1. 1. 1. 1. 1. 1. 1. 0.]\n",
            " [0. 1. 1. 1. 1. 1. 1. 1. 1. 0.]\n",
            " [0. 1. 1. 1. 1. 1. 1. 1. 1. 0.]\n",
            " [0. 1. 1. 1. 1. 1. 1. 1. 1. 0.]\n",
            " [0. 1. 1. 1. 1. 1. 1. 1. 1. 0.]\n",
            " [0. 1. 1. 1. 1. 1. 1. 1. 1. 0.]\n",
            " [0. 1. 1. 1. 1. 1. 1. 1. 1. 0.]\n",
            " [0. 1. 1. 1. 1. 1. 1. 1. 1. 0.]\n",
            " [0. 1. 1. 1. 1. 1. 1. 1. 1. 0.]\n",
            " [0. 1. 1. 1. 1. 1. 1. 1. 1. 0.]]\n",
            "[[0. 0. 0. 0. 0. 0. 0. 0. 0. 0.]\n",
            " [0. 1. 1. 1. 1. 1. 1. 1. 1. 0.]\n",
            " [0. 1. 1. 1. 1. 1. 1. 1. 1. 0.]\n",
            " [0. 1. 1. 1. 1. 1. 1. 1. 1. 0.]\n",
            " [0. 1. 1. 1. 1. 1. 1. 1. 1. 0.]\n",
            " [0. 1. 1. 1. 1. 1. 1. 1. 1. 0.]\n",
            " [0. 1. 1. 1. 1. 1. 1. 1. 1. 0.]\n",
            " [0. 1. 1. 1. 1. 1. 1. 1. 1. 0.]\n",
            " [0. 1. 1. 1. 1. 1. 1. 1. 1. 0.]\n",
            " [0. 0. 0. 0. 0. 0. 0. 0. 0. 0.]]\n"
          ]
        }
      ],
      "source": [
        "# Working with borders and adding padding\n",
        "image = np.ones((10,10))\n",
        "# For all rows, assign first and last column zero.\n",
        "image[:,[0,-1]]=0\n",
        "print(image)\n",
        "# For the first and last rows,assign all columns zero.\n",
        "image[[0,-1],:]=0\n",
        "print(image)"
      ]
    },
    {
      "cell_type": "markdown",
      "metadata": {
        "id": "nlr_pD9bg5Pw"
      },
      "source": [
        "# 2 - Numpy Operators\n",
        "\n"
      ]
    },
    {
      "cell_type": "markdown",
      "metadata": {
        "id": "rMfteBY-g5Pw"
      },
      "source": [
        "In this portion of the lab, we will see at some of the numpy operators. Understanding these will allow you to make your own neural network."
      ]
    },
    {
      "cell_type": "markdown",
      "metadata": {
        "id": "jikn1ynxntzq"
      },
      "source": [
        "## Vectorized Operations\n",
        "\n"
      ]
    },
    {
      "cell_type": "markdown",
      "metadata": {
        "id": "rjJEZCoag5Px"
      },
      "source": [
        "You may have noticed that numpy arrays have the restriction of just one data type. This homogeneity allows us to apply mathematical operations on each of the element in a numpy array at the same time. Suppose I want to add 2 matrices $A,B$ together, I can either iterate 1 by 1 and compute the result for each value or use numpy and do it together. I can do this operation using `np.add(A,B)` or more succinctly `A+B`. They both generate the same result.\n",
        "\n",
        "\n",
        "<center><h3>Addition Representation</h3></center>\n",
        "\n",
        "\n",
        "\n",
        "<div>\n",
        "<center>\n",
        "\n",
        "![picture](https://drive.google.com/uc?export=view&id=19krPPZ9sBqksqiEBgZmdcWh85BtyN-pz)\n",
        "\n",
        "</center>\n",
        "</div>\n",
        "\n",
        "\n",
        "\n",
        "<h3><center>Scalar multiplication Representation</center></h3>\n",
        "\n",
        "<div>\n",
        "<center>\n",
        "\n",
        "![picture](https://drive.google.com/uc?export=view&id=1Lby2jneXd6LS6QwlxzejYhxEKz2ek1Xt)\n",
        "\n",
        "</center>\n",
        "</div>\n",
        "\n"
      ]
    },
    {
      "cell_type": "code",
      "execution_count": 24,
      "metadata": {
        "id": "CtydhYoJntzq",
        "outputId": "b5d5d3d8-558a-48d1-b6bf-39b532f1bcb4",
        "colab": {
          "base_uri": "https://localhost:8080/"
        }
      },
      "outputs": [
        {
          "output_type": "stream",
          "name": "stdout",
          "text": [
            "[[2 3]\n",
            " [4 5]]\n",
            "[[2 3]\n",
            " [4 5]]\n"
          ]
        }
      ],
      "source": [
        "A = np.array([[1,2],[3,4]])\n",
        "B = np.array([[1,1],[1,1]])\n",
        "print(np.add(A,B))\n",
        "#it's better to only use the numpy library\n",
        "print(A+B)"
      ]
    },
    {
      "cell_type": "markdown",
      "metadata": {
        "id": "mvkxl2ASntzr"
      },
      "source": [
        "We can use other operators as well like\n",
        "1. Subtraction : `np.subtract(A,B)` or `A-B`\n",
        "2. Multiplication : `np.multiply(A,B)` or `A * B`. **Note that this is element-wise multiplication (Hadamard Product). This is not the same as Matrix Multiplication. That can be done using matmul function**\n",
        "3. Division: `np.divide(A,B)` or `A/B`."
      ]
    },
    {
      "cell_type": "markdown",
      "metadata": {
        "id": "6veB6ywtg5Py"
      },
      "source": [
        "## Element-Wise Operators\n",
        "Similarly, we also have element-wise operations\n",
        "\n",
        "1. Square: `np.square(A)`\n",
        "2. Square Root: `np.sqrt(A)`.\n",
        "3. Floor: `np.floor(A)`\n",
        "4. Ceil `np.ceil(A)`\n",
        "5. Absolute Value: `np.abs(A)`\n",
        "6. Exponential: `np.exp(A)`"
      ]
    },
    {
      "cell_type": "markdown",
      "metadata": {
        "id": "lG3Aantag5Py"
      },
      "source": [
        "## Examples of Operations"
      ]
    },
    {
      "cell_type": "code",
      "execution_count": 25,
      "metadata": {
        "colab": {
          "base_uri": "https://localhost:8080/"
        },
        "id": "YavXhEYNntzr",
        "outputId": "b29ccbef-d2d2-4ee6-d02e-a32f6dac2dd5"
      },
      "outputs": [
        {
          "output_type": "stream",
          "name": "stdout",
          "text": [
            "Subtracting revenue and profit: [200 400 600 550 500 900]\n",
            "Multiplying the units sold with price: [1200 2400 3000 4000 5000 5500]\n",
            "Dividing revenue by units sold to get the price:  [ 12.  48.  10. 100. 100.  10.]\n",
            "A: [-3 -2 -1  0  1  2  3]\n",
            "A.^2: [9 4 1 0 1 4 9]\n",
            "Sqrt(A.^2): [3. 2. 1. 0. 1. 2. 3.]\n",
            "A: [93.82780936 43.60453835 51.78397404 13.47141688 33.58933014]\n",
            "Floor A [93. 43. 51. 13. 33.]\n",
            "Floor A [94. 44. 52. 14. 34.]\n"
          ]
        }
      ],
      "source": [
        "# Subtraction\n",
        "\n",
        "Revenue = np.array([1200,2400,3000,4000,5000,5500])\n",
        "Cost= np.array([1000,2000,2400,3450,4500,4600])\n",
        "\n",
        "Profit = np.subtract(Revenue,Cost)\n",
        "print(\"Subtracting revenue and profit:\", Profit)\n",
        "\n",
        "# Multiplication\n",
        "\n",
        "Units_Sold = np.array([100,50,300,40,50,550])\n",
        "Price = np.array([12,48,10,100,100,10])\n",
        "Rev = np.multiply(Units_Sold,Price)\n",
        "print(\"Multiplying the units sold with price:\",Rev)\n",
        "\n",
        "\n",
        "# Division\n",
        "\n",
        "Prices = np.divide(Rev,Units_Sold)\n",
        "print(\"Dividing revenue by units sold to get the price: \",Prices)\n",
        "\n",
        "# Square\n",
        "\n",
        "A = np.arange(-3,4)\n",
        "print(\"A:\",A)\n",
        "squaredA = np.square(A)\n",
        "print(\"A.^2:\",squaredA)\n",
        "\n",
        "\n",
        "# Square root\n",
        "\n",
        "sqrt_squaredA = np.sqrt(squaredA)\n",
        "print(\"Sqrt(A.^2):\",sqrt_squaredA)\n",
        "\n",
        "# Floor A\n",
        "A = np.random.uniform(0,100,5)\n",
        "print(\"A:\",A)\n",
        "floor_A = np.floor(A)\n",
        "print(\"Floor A\",floor_A)\n",
        "\n",
        "\n",
        "ceil_A = np.ceil(A)\n",
        "print(\"Floor A\",ceil_A)"
      ]
    },
    {
      "cell_type": "markdown",
      "metadata": {
        "id": "Fa_UK8Okntzr"
      },
      "source": [
        "Element wise exponentiation of an array with Numpy. Applying $e^a$ for every element $a$ in $A$"
      ]
    },
    {
      "cell_type": "code",
      "execution_count": 26,
      "metadata": {
        "colab": {
          "base_uri": "https://localhost:8080/"
        },
        "id": "8MLwAeVqntzr",
        "outputId": "002f5d06-1b52-4ac7-cd2a-dda6dc168a9e"
      },
      "outputs": [
        {
          "output_type": "execute_result",
          "data": {
            "text/plain": [
              "array([1.00000000e+00, 2.71828183e+00, 7.38905610e+00, 2.00855369e+01,\n",
              "       5.45981500e+01, 1.48413159e+02, 4.03428793e+02, 1.09663316e+03])"
            ]
          },
          "metadata": {},
          "execution_count": 26
        }
      ],
      "source": [
        "x = np.array([0,1,2,3,4,5,6,7])\n",
        "np.exp(x)"
      ]
    },
    {
      "cell_type": "markdown",
      "metadata": {
        "id": "tfd8K9ukntzs"
      },
      "source": [
        "## Combining Numpy Operators\n",
        "\n",
        "\n"
      ]
    },
    {
      "cell_type": "markdown",
      "metadata": {
        "id": "oDJXnEmHg5Pz"
      },
      "source": [
        "Exponentiation is a useful operation which is used in the sigmoid activation function. Sigmoid function is defined as follows:\n",
        "$$\\frac{1}{1+e^{-x}}$$\n",
        "We can use `np.exp(A)` to take $e^x$ on every element $x$.\n",
        "The below example implements this Sigmoid function using exponentiation.\n",
        "<br>\n"
      ]
    },
    {
      "cell_type": "code",
      "execution_count": 27,
      "metadata": {
        "colab": {
          "base_uri": "https://localhost:8080/"
        },
        "id": "XQZT1xzSntzs",
        "outputId": "f9b6d4c4-9f16-42a0-d039-83f49fe5bb75"
      },
      "outputs": [
        {
          "output_type": "stream",
          "name": "stdout",
          "text": [
            "[0.11920292 0.26894142 0.5        0.73105858 0.88079708]\n"
          ]
        }
      ],
      "source": [
        "def sigmoid(x):\n",
        "\ta = np.exp(-x)\n",
        "\tb = np.add(1,a)\n",
        "\td = np.divide(1,b)\n",
        "\treturn d\n",
        "\n",
        "output_from_layer = np.array([-2,-1,0,1,2])\n",
        "output_after_sigmoid = sigmoid(output_from_layer)\n",
        "\n",
        "print(output_after_sigmoid)"
      ]
    },
    {
      "cell_type": "markdown",
      "metadata": {
        "id": "IlKl250Yg5P0"
      },
      "source": [
        "Batch Normalization is a regularization technique that allows a neural network to learn a more generalised model. In Batch Normalization, you subtract the mean and divide by the standard deviation."
      ]
    },
    {
      "cell_type": "code",
      "execution_count": 28,
      "metadata": {
        "id": "obMbakscg5P0",
        "outputId": "8aebaab6-1e3b-4447-f8a5-dfadfd5541dc",
        "colab": {
          "base_uri": "https://localhost:8080/"
        }
      },
      "outputs": [
        {
          "output_type": "stream",
          "name": "stdout",
          "text": [
            "[[0.47917621 0.06451343 0.59401605 0.47246583 0.75081438]\n",
            " [0.69628868 0.44925032 0.30493505 0.26943863 0.85874792]\n",
            " [0.71009099 0.07676315 0.00204878 0.34949272 0.17949327]\n",
            " [0.0594307  0.10818682 0.77961911 0.31360054 0.44376694]\n",
            " [0.34867034 0.94615373 0.20236408 0.83198499 0.57500131]]\n",
            "Mean : 0.4346525592725884 ; Std : 0.2759374276346345\n",
            "[[ 0.16135414 -1.34138789  0.57753487  0.13703566  1.14577359]\n",
            " [ 0.94817192  0.05290244 -0.47009756 -0.59873693  1.53692585]\n",
            " [ 0.99819161 -1.29699479 -1.56776042 -0.30862011 -0.9246998 ]\n",
            " [-1.35980778 -1.1831151   1.25016224 -0.43869374  0.03303061]\n",
            " [-0.31160042  1.85368535 -0.84181576  1.43993672  0.50862528]]\n"
          ]
        }
      ],
      "source": [
        "r = np.random.random((5,5))\n",
        "print(r)\n",
        "def z_score(mat):\n",
        "    print(f\"Mean : {np.mean(mat)} ; Std : {np.std(mat)}\")\n",
        "    return (mat - np.mean(mat))/np.std(mat)\n",
        "print(z_score(r))"
      ]
    },
    {
      "cell_type": "markdown",
      "metadata": {
        "id": "wWHDwMdYg5P0"
      },
      "source": [
        "## np.nan vs np.inf"
      ]
    },
    {
      "cell_type": "markdown",
      "metadata": {
        "id": "IZV5s1yCg5P1"
      },
      "source": [
        "One thing that should be noted is that `np.nan` is different from `np.inf`. `np.inf` represents positive infinity whereas `np.nan` represents an invalid value. Furthemore, you cannot perform any operations with `np.nan` values."
      ]
    },
    {
      "cell_type": "markdown",
      "metadata": {
        "id": "2jWVCBsOg5P1"
      },
      "source": [
        "We can see that when `np.inf` is compared with 0, the answer is True. However, when `np.nan` is compared with `np.inf`, the answer is False."
      ]
    },
    {
      "cell_type": "code",
      "execution_count": 29,
      "metadata": {
        "id": "WAX7-7eYg5P1",
        "outputId": "0f65a765-702e-4a19-d8ac-5202017f8cbf",
        "colab": {
          "base_uri": "https://localhost:8080/"
        }
      },
      "outputs": [
        {
          "output_type": "stream",
          "name": "stdout",
          "text": [
            "nan\n",
            "False\n",
            "False\n",
            "False\n",
            "False\n",
            "nan\n",
            "True\n"
          ]
        }
      ],
      "source": [
        "# Working with np.nan and np.Inf\n",
        "print(0*np.inf)\n",
        "print(np.nan == np.nan)\n",
        "print(np.inf > np.nan)\n",
        "print(np.nan > np.inf)\n",
        "print(np.nan < np.nan)\n",
        "print(np.nan - np.nan)\n",
        "print(np.inf > 0)"
      ]
    },
    {
      "cell_type": "markdown",
      "metadata": {
        "id": "DbCDwtJ1ntzs"
      },
      "source": [
        "## Reduction\n",
        "\n"
      ]
    },
    {
      "cell_type": "markdown",
      "metadata": {
        "id": "hUMWDijfg5P1"
      },
      "source": [
        "Sometimes we want to simplify our data. We might be dealing with images and want to convert it into grayscale hence we would need to take the average of the RGB channels. This simplification of data is known as _reduction_. We can perform it on multiple axis, and have functions like sum, average and median. We will motivate this understanding of how we can use axis using an example of pixels. The screen that you have has a width and height. And each pixel has an RGB value.\n",
        "\n",
        "<h3><center>Reduction Representation</center></h3>\n",
        "\n",
        "<div>\n",
        "<center>\n",
        "\n",
        "![picture](https://drive.google.com/uc?export=view&id=1vyJpmmYZ_6DY56-Q2qZpxXGBYN4aBwwV)\n",
        "\n",
        "</center>\n",
        "</div>\n"
      ]
    },
    {
      "cell_type": "code",
      "execution_count": 30,
      "metadata": {
        "colab": {
          "base_uri": "https://localhost:8080/"
        },
        "id": "TXB1z1TSntzs",
        "outputId": "0d4ffe57-4716-40dc-c526-81d3383164aa"
      },
      "outputs": [
        {
          "output_type": "execute_result",
          "data": {
            "text/plain": [
              "(2, 3, 3)"
            ]
          },
          "metadata": {},
          "execution_count": 30
        }
      ],
      "source": [
        "pixels = np.array([\n",
        "        [[100,200,220],[110,110,110],[120,100,80]]\n",
        "         ,[[0,0,0],[255,250,250],[30,50,70]]])\n",
        "# We have 2 rows, with 3 columns, and each (row,column) pair has 3 values. RGB. The pixel has width 3, and height 2\n",
        "pixels.shape"
      ]
    },
    {
      "cell_type": "markdown",
      "metadata": {
        "id": "ojPCbjL4ntzt"
      },
      "source": [
        "Suppose we want to take the sum of each row, then our axis would be 0 (Row axis)"
      ]
    },
    {
      "cell_type": "code",
      "execution_count": null,
      "metadata": {
        "id": "eUiTMUr-ntzt",
        "outputId": "c5d8d756-dbd8-4f56-f754-42782612ee0c",
        "colab": {
          "base_uri": "https://localhost:8080/"
        }
      },
      "outputs": [
        {
          "output_type": "execute_result",
          "data": {
            "text/plain": [
              "array([[100, 200, 220],\n",
              "       [365, 360, 360],\n",
              "       [150, 150, 150]])"
            ]
          },
          "metadata": {},
          "execution_count": 60
        }
      ],
      "source": [
        "np.sum(pixels,axis=0)"
      ]
    },
    {
      "cell_type": "markdown",
      "metadata": {
        "id": "LNF-NdnZntzt"
      },
      "source": [
        "If we want to take median of each column, we can take it on axis 1. (Column axis)"
      ]
    },
    {
      "cell_type": "code",
      "execution_count": null,
      "metadata": {
        "id": "RWUZFvYjntzt",
        "outputId": "190d73aa-577e-4368-eeaa-516695d458e4",
        "colab": {
          "base_uri": "https://localhost:8080/"
        }
      },
      "outputs": [
        {
          "output_type": "execute_result",
          "data": {
            "text/plain": [
              "array([[110., 110., 110.],\n",
              "       [ 30.,  50.,  70.]])"
            ]
          },
          "metadata": {},
          "execution_count": 61
        }
      ],
      "source": [
        "np.median(pixels,axis=1)"
      ]
    },
    {
      "cell_type": "markdown",
      "metadata": {
        "id": "hAlLkFzUntzu"
      },
      "source": [
        "Suppose we want to convert the image into grayscale. Then we will take the average of the R,G,B pixels. Hence our axis will be 2."
      ]
    },
    {
      "cell_type": "code",
      "execution_count": null,
      "metadata": {
        "id": "JWCrK3q_ntzu",
        "outputId": "55698fa5-8a75-455a-f28c-554b4cdf2b5d",
        "colab": {
          "base_uri": "https://localhost:8080/"
        }
      },
      "outputs": [
        {
          "output_type": "execute_result",
          "data": {
            "text/plain": [
              "array([[173.33333333, 110.        , 100.        ],\n",
              "       [  0.        , 251.66666667,  50.        ]])"
            ]
          },
          "metadata": {},
          "execution_count": 62
        }
      ],
      "source": [
        "np.average(pixels,axis=2)"
      ]
    },
    {
      "cell_type": "code",
      "execution_count": 32,
      "metadata": {
        "colab": {
          "base_uri": "https://localhost:8080/"
        },
        "id": "r1Q3ZjXOopVp",
        "outputId": "55f496f7-4189-4bc6-e3a5-80b76b621767"
      },
      "outputs": [
        {
          "output_type": "stream",
          "name": "stdout",
          "text": [
            "[[0 1 2 3 4]\n",
            " [5 6 7 8 9]]\n",
            "Shape of A =  (2, 5)\n",
            "[5 6 7 8 9]\n"
          ]
        }
      ],
      "source": [
        "A=np.arange(10).reshape(2,5)\n",
        "print(A)\n",
        "print(\"Shape of A = \",A.shape)\n",
        "print(np.max(A,axis=0))"
      ]
    },
    {
      "cell_type": "markdown",
      "metadata": {
        "id": "enEb8XOLntzu"
      },
      "source": [
        "There exists other functions as well. Like max. You can also apply without specifying the axis. In that case, it will be applied to each element in the matrix."
      ]
    },
    {
      "cell_type": "code",
      "execution_count": 34,
      "metadata": {
        "id": "a-wGN38fntzu",
        "outputId": "87f23e5e-0bd3-4c53-cc0d-0b07f30a526a",
        "colab": {
          "base_uri": "https://localhost:8080/"
        }
      },
      "outputs": [
        {
          "output_type": "execute_result",
          "data": {
            "text/plain": [
              "9"
            ]
          },
          "metadata": {},
          "execution_count": 34
        }
      ],
      "source": [
        "np.max(A)"
      ]
    },
    {
      "cell_type": "markdown",
      "metadata": {
        "id": "Ca7oYqzdg5P7"
      },
      "source": [
        "Numpy also provides functions which ignore Nan values when performing operations such as computing the mean or median."
      ]
    },
    {
      "cell_type": "code",
      "execution_count": null,
      "metadata": {
        "id": "x0TYRkvag5P7",
        "outputId": "456b93a3-bdc4-4e82-968e-3aed7928ce60",
        "colab": {
          "base_uri": "https://localhost:8080/"
        }
      },
      "outputs": [
        {
          "output_type": "stream",
          "name": "stdout",
          "text": [
            "0.5\n",
            "0.5\n",
            "1.0\n"
          ]
        }
      ],
      "source": [
        "A = np.array([0,np.nan,1])\n",
        "print(np.nanmean(A))\n",
        "print(np.nanmedian(A))\n",
        "print(np.nansum(A))"
      ]
    },
    {
      "cell_type": "markdown",
      "metadata": {
        "id": "nrIf9oCWntzu"
      },
      "source": [
        "## Non reduction\n",
        "\n",
        "\n"
      ]
    },
    {
      "cell_type": "markdown",
      "metadata": {
        "id": "foJULsvFg5P7"
      },
      "source": [
        "We can sometimes find it can be useful to keep the number of axes unchanged when invoking the function for calculating the sum or mean. In that case, we can set `keepdims = True` and this will preserve our dimensions."
      ]
    },
    {
      "cell_type": "code",
      "execution_count": null,
      "metadata": {
        "colab": {
          "base_uri": "https://localhost:8080/"
        },
        "id": "Y0AVaD19ntzu",
        "outputId": "83c040ef-af5b-4235-a2d3-a593c869afc1"
      },
      "outputs": [
        {
          "output_type": "execute_result",
          "data": {
            "text/plain": [
              "array([[ 0,  1,  2,  3],\n",
              "       [ 4,  5,  6,  7],\n",
              "       [ 8,  9, 10, 11],\n",
              "       [12, 13, 14, 15],\n",
              "       [16, 17, 18, 19]])"
            ]
          },
          "metadata": {},
          "execution_count": 39
        }
      ],
      "source": [
        "A = np.arange(20).reshape(5, 4)\n",
        "A"
      ]
    },
    {
      "cell_type": "code",
      "execution_count": null,
      "metadata": {
        "colab": {
          "base_uri": "https://localhost:8080/"
        },
        "id": "yfvtTQE5ntzu",
        "outputId": "2d0e6e66-8da2-4843-8137-f746ff7e31d2"
      },
      "outputs": [
        {
          "output_type": "execute_result",
          "data": {
            "text/plain": [
              "array([[ 6],\n",
              "       [22],\n",
              "       [38],\n",
              "       [54],\n",
              "       [70]])"
            ]
          },
          "metadata": {},
          "execution_count": 40
        }
      ],
      "source": [
        "sum_A = A.sum(axis=1, keepdims=True)\n",
        "sum_A"
      ]
    },
    {
      "cell_type": "markdown",
      "metadata": {
        "id": "fdiKyJ04ntzv"
      },
      "source": [
        "For instance, since sum_A still keeps its two axes after summing each row, we can divide `A` by `sum_A` with broadcasting."
      ]
    },
    {
      "cell_type": "code",
      "execution_count": null,
      "metadata": {
        "colab": {
          "base_uri": "https://localhost:8080/"
        },
        "id": "NJ2DynMGntzv",
        "outputId": "2e013efd-ea88-4de0-e9bc-112da98cb7bf"
      },
      "outputs": [
        {
          "output_type": "execute_result",
          "data": {
            "text/plain": [
              "array([[0.        , 0.16666667, 0.33333333, 0.5       ],\n",
              "       [0.18181818, 0.22727273, 0.27272727, 0.31818182],\n",
              "       [0.21052632, 0.23684211, 0.26315789, 0.28947368],\n",
              "       [0.22222222, 0.24074074, 0.25925926, 0.27777778],\n",
              "       [0.22857143, 0.24285714, 0.25714286, 0.27142857]])"
            ]
          },
          "metadata": {},
          "execution_count": 41
        }
      ],
      "source": [
        "A / sum_A"
      ]
    },
    {
      "cell_type": "markdown",
      "metadata": {
        "id": "yAOTOXsYntzv"
      },
      "source": [
        "If we want to calculate the cumulative sum of elements of A along some axis, say axis=0 (row by row), we can call the `cumsum` function. This function will not reduce the input tensor along any\n",
        "axis."
      ]
    },
    {
      "cell_type": "code",
      "source": [
        "A"
      ],
      "metadata": {
        "id": "VHbV_FI0nvTQ",
        "outputId": "13203002-7dc2-43dd-9871-ab48f91664cb",
        "colab": {
          "base_uri": "https://localhost:8080/"
        }
      },
      "execution_count": 36,
      "outputs": [
        {
          "output_type": "execute_result",
          "data": {
            "text/plain": [
              "array([[0, 1, 2, 3, 4],\n",
              "       [5, 6, 7, 8, 9]])"
            ]
          },
          "metadata": {},
          "execution_count": 36
        }
      ]
    },
    {
      "cell_type": "code",
      "execution_count": 38,
      "metadata": {
        "id": "ue8aKdPIntzv",
        "outputId": "80f2dda2-e3ce-426d-e74b-16fa08c04270",
        "colab": {
          "base_uri": "https://localhost:8080/"
        }
      },
      "outputs": [
        {
          "output_type": "execute_result",
          "data": {
            "text/plain": [
              "array([[ 0,  1,  3,  6, 10],\n",
              "       [ 5, 11, 18, 26, 35]])"
            ]
          },
          "metadata": {},
          "execution_count": 38
        }
      ],
      "source": [
        "A.cumsum(axis=1)"
      ]
    },
    {
      "cell_type": "markdown",
      "metadata": {
        "id": "zP-1sA1Pntzv"
      },
      "source": [
        "## Dot Product\n",
        "\n"
      ]
    },
    {
      "cell_type": "markdown",
      "metadata": {
        "id": "XAqkac_Lg5P9"
      },
      "source": [
        "So far, we have only performed elementwise operations, sums, and averages. We can now move on to the domain of Linear Algebra. One of the most fundamental operations is the dot product. Given two vectors $x, y \\in  \\mathbb{R}^d$, their _dot product_ $\\mathbf{x}^⊤\\mathbf{y}$ (or $\\langle x, y\\rangle$) is a sum over the products of the elements at the same position\n",
        "$$\\mathbf{x}^⊤\\mathbf{y} = \\sum_{i=1}^{d} x_i y_i$$\n",
        "\n",
        "<h3><center>Dot Product Representation</center></h3>\n",
        "\n",
        "<div>\n",
        "<center>\n",
        "\n",
        "![picture](https://drive.google.com/uc?export=view&id=10XxlAGSDN5b8PlZYYwR-3acxE9Y1DHwu)\n",
        "\n",
        "</center>\n",
        "</div>\n",
        "\n",
        "<h3></h3>\n",
        "\n",
        "<div>\n",
        "<center>\n",
        "\n",
        "![picture](https://drive.google.com/uc?export=view&id=111iiMzYMeAJhEioL1PskliD31E1C1lRW)\n",
        "\n",
        "</center>\n",
        "</div>\n",
        "\n"
      ]
    },
    {
      "cell_type": "code",
      "execution_count": 39,
      "metadata": {
        "id": "WgPG50ixntzv",
        "outputId": "ffd7ead2-cd65-4129-ff00-c578ff2ebe31",
        "colab": {
          "base_uri": "https://localhost:8080/"
        }
      },
      "outputs": [
        {
          "output_type": "execute_result",
          "data": {
            "text/plain": [
              "(array([0, 1, 2, 3]), array([1., 1., 1., 1.]), 6.0)"
            ]
          },
          "metadata": {},
          "execution_count": 39
        }
      ],
      "source": [
        "x = np.arange(4)\n",
        "y = np.ones(4)\n",
        "# We use the np.dot function for dot products\n",
        "x,y, np.dot(x,y)"
      ]
    },
    {
      "cell_type": "markdown",
      "metadata": {
        "id": "w8P7aD44ntzw"
      },
      "source": [
        "Dot products are useful in a wide range ofcontexts. For example, given some set of values, denoted by a vector $x \\in \\mathbb{R}^d$ and a set of weights denoted by $w \\in \\mathbb{R}^d$, the weighted sum of the values in $x$ according to the weights $w$ could be expressed as the dot product $\\mathbf{x}^⊤\\mathbf{w}$. When the weights are\n",
        "non-negative and sum to one (i.e., ($\\sum_{i=1}^{d} w_i = 1$), the dot product expresses a _weighted average._\n",
        ")"
      ]
    },
    {
      "cell_type": "markdown",
      "metadata": {
        "id": "W6ew7_sKg5P-"
      },
      "source": [
        "## Broadcasting"
      ]
    },
    {
      "cell_type": "markdown",
      "metadata": {
        "id": "CKiLwPKQntzw"
      },
      "source": [
        "Arrays with different sizes cannot be added, subtracted, or generally be used in arithmetic. A way to overcome this is to duplicate the smaller array so that it is the dimensionality and size as the larger array. This is called array broadcasting and is available in NumPy when performing array arithmetic, which can greatly reduce and simplify your code.\n",
        "\n",
        "<h3><center>Broadcasting Representation</center></h3>\n",
        "\n",
        "<div>\n",
        "<center>\n",
        "\n",
        "![picture](https://drive.google.com/uc?export=view&id=13F1kgRRsVwDnO2vmZuoYJaO0DwH8GZ3B)\n",
        "\n",
        "</center>\n",
        "</div>\n",
        "\n"
      ]
    },
    {
      "cell_type": "code",
      "execution_count": null,
      "metadata": {
        "colab": {
          "base_uri": "https://localhost:8080/"
        },
        "id": "RbLtkEAIn-G5",
        "outputId": "67488be7-f633-452c-e8e6-2dcd0523f4d4"
      },
      "outputs": [
        {
          "output_type": "stream",
          "name": "stdout",
          "text": [
            "[4. 5. 6.]\n"
          ]
        }
      ],
      "source": [
        "# adding a sclar to array\n",
        "A = np.array([1,2,3])\n",
        "b= 3.0\n",
        "print(A+b)"
      ]
    },
    {
      "cell_type": "code",
      "execution_count": null,
      "metadata": {
        "colab": {
          "base_uri": "https://localhost:8080/"
        },
        "id": "23wnHYzroI46",
        "outputId": "f8d989a6-5d7b-4deb-8f76-41a1cbf4860d"
      },
      "outputs": [
        {
          "output_type": "stream",
          "name": "stdout",
          "text": [
            "[[1 2 3]\n",
            " [1 2 3]]\n",
            "[[4. 5. 6.]\n",
            " [4. 5. 6.]]\n"
          ]
        }
      ],
      "source": [
        "# adding a sclar to matrix\n",
        "A = np.array([[1,2,3],[1,2,3]])\n",
        "print(A)\n",
        "b= 3.0\n",
        "print(A+b)"
      ]
    },
    {
      "cell_type": "code",
      "execution_count": null,
      "metadata": {
        "colab": {
          "base_uri": "https://localhost:8080/"
        },
        "id": "CaMmQgnurT1r",
        "outputId": "3ac254c8-2a18-460c-85fc-105b7e0c7490"
      },
      "outputs": [
        {
          "output_type": "stream",
          "name": "stdout",
          "text": [
            "[[1 2 3]\n",
            " [1 2 3]]\n",
            "[[2 3 6]\n",
            " [2 3 6]]\n"
          ]
        }
      ],
      "source": [
        "A = np.array([[1,2,3],[1,2,3]])\n",
        "print(A)\n",
        "B=np.array([1,1,3]).reshape(1,3)\n",
        "print(A+B)\n"
      ]
    },
    {
      "cell_type": "markdown",
      "metadata": {
        "id": "2IJs_uRIg5P_"
      },
      "source": [
        "## Aggregation"
      ]
    },
    {
      "cell_type": "markdown",
      "metadata": {
        "id": "LR3kyvFhg5P_"
      },
      "source": [
        "Additional benefits NumPy gives us are aggregation functions:\n",
        "\n",
        "<h3><center>Aggregation Representation in Vectors</center></h3>\n",
        "\n",
        "\n",
        "<div>\n",
        "<center>\n",
        "\n",
        "![picture](https://drive.google.com/uc?export=view&id=1Nxdj6dXMytOFgWzhnBjhP-6-fQOjWHzc)\n",
        "\n",
        "</center>\n",
        "</div>\n",
        "\n",
        "\n"
      ]
    },
    {
      "cell_type": "markdown",
      "metadata": {
        "id": "F0fATVa5g5QA"
      },
      "source": [
        "In addition to min, max, and sum, you get all the greats like mean to get the average, prod to get the result of multiplying all the elements together, std to get standard deviation, and plenty of others.\n",
        "\n",
        "We can aggregate matrices the same way we aggregated vectors:\n",
        "\n",
        "<h3><center>Aggregation Representation in Matrices</center></h3>\n",
        "\n",
        "<div>\n",
        "<center>\n",
        "\n",
        "![picture](https://drive.google.com/uc?export=view&id=1YQFwQcvymB9c1FC4yWiJnqnopprzD20_)\n",
        "\n",
        "</center>\n",
        "</div>\n",
        "\n",
        "\n"
      ]
    },
    {
      "cell_type": "code",
      "execution_count": null,
      "metadata": {
        "id": "X628xkLYg5QA",
        "outputId": "3645c690-fd62-48d1-fc44-8a5e3bac9ede",
        "colab": {
          "base_uri": "https://localhost:8080/"
        }
      },
      "outputs": [
        {
          "output_type": "execute_result",
          "data": {
            "text/plain": [
              "(1, 3, 6)"
            ]
          },
          "metadata": {},
          "execution_count": 47
        }
      ],
      "source": [
        "# In Vector\n",
        "a = np.arange(1,4)\n",
        "a.min(),a.max(),a.sum()"
      ]
    },
    {
      "cell_type": "code",
      "execution_count": null,
      "metadata": {
        "id": "g9Zk53POg5QA",
        "outputId": "a9d46b57-b0bd-4817-cd8b-add737ecd06a",
        "colab": {
          "base_uri": "https://localhost:8080/"
        }
      },
      "outputs": [
        {
          "output_type": "execute_result",
          "data": {
            "text/plain": [
              "(1, 6, 21)"
            ]
          },
          "metadata": {},
          "execution_count": 48
        }
      ],
      "source": [
        "# In Matrices\n",
        "a = np.arange(1,7).reshape(3,2)\n",
        "a.min(),a.max(),a.sum()"
      ]
    },
    {
      "cell_type": "markdown",
      "metadata": {
        "id": "HrIVDobDg5QB"
      },
      "source": [
        "However, things get a little tricky when axis is involved.\n",
        "<h3><center>Aggregation Representation in Matrices</center></h3>\n",
        "\n",
        "<div>\n",
        "<center>\n",
        "\n",
        "![picture](https://drive.google.com/uc?export=view&id=17D7gIOanZWSxL1fB-DNGD4nIdG9Jy7Ep)\n",
        "\n",
        "</center>\n",
        "</div>\n"
      ]
    },
    {
      "cell_type": "code",
      "execution_count": null,
      "metadata": {
        "id": "H6YgOiasg5QB",
        "outputId": "99b0ba76-511c-4933-b264-be548b932a86",
        "colab": {
          "base_uri": "https://localhost:8080/"
        }
      },
      "outputs": [
        {
          "output_type": "execute_result",
          "data": {
            "text/plain": [
              "(array([1, 2]),\n",
              " array([5, 6]),\n",
              " array([ 9, 12]),\n",
              " array([1, 3, 5]),\n",
              " array([2, 4, 6]),\n",
              " array([ 3,  7, 11]))"
            ]
          },
          "metadata": {},
          "execution_count": 49
        }
      ],
      "source": [
        "# In Matrices\n",
        "a = np.arange(1,7).reshape(3,2)\n",
        "a.min(axis=0),a.max(axis=0),a.sum(axis=0),a.min(axis=1),a.max(axis=1),a.sum(axis=1)"
      ]
    },
    {
      "cell_type": "markdown",
      "metadata": {
        "id": "j61SnVGgg5QB"
      },
      "source": [
        "## argmax vs max and argmin vs min\n",
        "argmax returns the index of maximum value and max returns the value. Similarly, argmin return the index of minimum value and min returns the value."
      ]
    },
    {
      "cell_type": "code",
      "execution_count": 40,
      "metadata": {
        "id": "iyE4lmfFg5QB",
        "outputId": "23147f9c-0f17-4317-a779-bb579d729bd3",
        "colab": {
          "base_uri": "https://localhost:8080/"
        }
      },
      "outputs": [
        {
          "output_type": "stream",
          "name": "stdout",
          "text": [
            "[  9.255626   100.           6.36041682   4.1449885    7.74478979\n",
            "   2.95506098   4.71395672   3.13378551   7.29260346   3.97680328]\n"
          ]
        }
      ],
      "source": [
        "# Argmin and Argmax\n",
        "z = np.random.uniform(0,10,10)\n",
        "z[np.argmin(z)]=100\n",
        "print(z)"
      ]
    },
    {
      "cell_type": "markdown",
      "metadata": {
        "id": "vyEi1Fn5g5QC"
      },
      "source": [
        "Let's say we want to find the closet value in the array A to the randomnly generated value. We can use the `np.argmin` for this purpose."
      ]
    },
    {
      "cell_type": "code",
      "execution_count": null,
      "metadata": {
        "id": "kIEzwHxog5QC",
        "outputId": "4ce74bd7-e3cf-4720-80b2-dc034648b7df",
        "colab": {
          "base_uri": "https://localhost:8080/"
        }
      },
      "outputs": [
        {
          "output_type": "stream",
          "name": "stdout",
          "text": [
            "Point is 18.27125301794672 is close to 18\n"
          ]
        }
      ],
      "source": [
        "z = np.arange(100)\n",
        "point = np.random.uniform(0,100)\n",
        "index = np.argmin(np.abs(z-point))\n",
        "print(f'Point is {point} is close to {z[index]}')"
      ]
    },
    {
      "cell_type": "markdown",
      "metadata": {
        "id": "FF55B5chg5QC"
      },
      "source": [
        "## 3-Dimensional Tensors\n",
        "When you printing a 3-dimensional NumPy array, the text output visualizes the array differently than stored in memory. here is how it will be stored in Memory.\n",
        "\n",
        "<div>\n",
        "<center>\n",
        "\n",
        "![picture](https://drive.google.com/uc?export=view&id=12sFXgjb17yuIqqkjYpwzftqkzmzqTzdx)\n",
        "\n",
        "</center>\n",
        "</div>\n",
        "\n",
        "\n",
        "\n",
        "NumPy’s order for printing n-dimensional arrays is that the last axis is looped over the fastest, while the first is the slowest. Which means that np.ones((4,3,2)) would be printed as:"
      ]
    },
    {
      "cell_type": "code",
      "source": [],
      "metadata": {
        "id": "bsDl5D5c6zja"
      },
      "execution_count": null,
      "outputs": []
    }
  ],
  "metadata": {
    "colab": {
      "provenance": [],
      "include_colab_link": true
    },
    "kernelspec": {
      "display_name": "Python 3.9.12 ('base')",
      "language": "python",
      "name": "python3"
    },
    "language_info": {
      "codemirror_mode": {
        "name": "ipython",
        "version": 3
      },
      "file_extension": ".py",
      "mimetype": "text/x-python",
      "name": "python",
      "nbconvert_exporter": "python",
      "pygments_lexer": "ipython3",
      "version": "3.9.2"
    },
    "vscode": {
      "interpreter": {
        "hash": "341ce806ad348c6396969bf6bfc3e3b2899dcbddac3f00a64251096e015967a2"
      }
    }
  },
  "nbformat": 4,
  "nbformat_minor": 0
}