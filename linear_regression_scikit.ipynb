{
  "cells": [
    {
      "cell_type": "markdown",
      "metadata": {
        "id": "view-in-github",
        "colab_type": "text"
      },
      "source": [
        "<a href=\"https://colab.research.google.com/github/abdulsamadkhan/MachineLearningTutorials/blob/main/linear_regression_scikit.ipynb\" target=\"_parent\"><img src=\"https://colab.research.google.com/assets/colab-badge.svg\" alt=\"Open In Colab\"/></a>"
      ]
    },
    {
      "cell_type": "code",
      "metadata": {
        "id": "OOpBaql106zf"
      },
      "source": [
        "import numpy as np\n",
        "import pandas as pd\n",
        "from sklearn.model_selection import train_test_split\n",
        "from sklearn.linear_model import LinearRegression\n",
        "from sklearn.metrics import mean_squared_error, r2_score\n",
        "import matplotlib.pyplot as plt\n"
      ],
      "outputs": [],
      "execution_count": null
    },
    {
      "cell_type": "markdown",
      "metadata": {
        "id": "pn8jho5h06zg"
      },
      "source": [
        "# Step 1: Data Loading\n",
        "Loading a sample dataset for demonstration."
      ]
    },
    {
      "cell_type": "code",
      "metadata": {
        "id": "j8zasHVb06zh"
      },
      "source": [
        "from sklearn.datasets import load_diabetes\n",
        "data = load_diabetes()\n",
        "df = pd.DataFrame(data.data, columns=data.feature_names)\n",
        "df['target'] = data.target"
      ],
      "outputs": [],
      "execution_count": null
    },
    {
      "cell_type": "markdown",
      "metadata": {
        "id": "nVFumD_C06zi"
      },
      "source": [
        "# Step 2: Data Exploration\n",
        "Exploring the dataset."
      ]
    },
    {
      "cell_type": "code",
      "metadata": {
        "id": "eAA6vw8F06zi"
      },
      "source": [
        "print(\"First five rows of the dataset:\")\n",
        "print(df.head())\n",
        "print(\"\\nChecking for missing values:\")\n",
        "print(df.isnull().sum())\n",
        "print(\"\\nBasic statistics:\")\n",
        "print(df.describe())"
      ],
      "outputs": [],
      "execution_count": null
    },
    {
      "cell_type": "markdown",
      "metadata": {
        "id": "6-BHg11206zi"
      },
      "source": [
        "# Step 3: Data Preprocessing\n",
        "Selecting a single feature for linear regression."
      ]
    },
    {
      "cell_type": "code",
      "metadata": {
        "id": "wPZwSiVF06zi"
      },
      "source": [
        "X = df[['bmi']].values\n",
        "y = df['target'].values"
      ],
      "outputs": [],
      "execution_count": null
    },
    {
      "cell_type": "markdown",
      "metadata": {
        "id": "135u5BWo06zi"
      },
      "source": [
        "# Step 4: Training-Test Split\n",
        "Splitting the dataset."
      ]
    },
    {
      "cell_type": "code",
      "metadata": {
        "id": "4JN4foaJ06zi"
      },
      "source": [
        "X_train, X_test, y_train, y_test = train_test_split(X, y, test_size=0.2, random_state=42)"
      ],
      "outputs": [],
      "execution_count": null
    },
    {
      "cell_type": "markdown",
      "metadata": {
        "id": "F74dCZwg06zi"
      },
      "source": [
        "# Step 5: Training the Model\n",
        "Training a Linear Regression model."
      ]
    },
    {
      "cell_type": "code",
      "metadata": {
        "id": "8f8FN6S206zj"
      },
      "source": [
        "model = LinearRegression()\n",
        "model.fit(X_train, y_train)"
      ],
      "outputs": [],
      "execution_count": null
    },
    {
      "cell_type": "markdown",
      "metadata": {
        "id": "XeF-m4xs06zj"
      },
      "source": [
        "# Step 6: Model Coefficients\n",
        "Displaying the model coefficients."
      ]
    },
    {
      "cell_type": "code",
      "metadata": {
        "id": "1ngsHajc06zj"
      },
      "source": [
        "print(f\"Coefficient: {model.coef_[0]}\")\n",
        "print(f\"Intercept: {model.intercept_}\")"
      ],
      "outputs": [],
      "execution_count": null
    },
    {
      "cell_type": "markdown",
      "metadata": {
        "id": "SYeeuC4_06zj"
      },
      "source": [
        "# Step 7: Evaluating the Model\n",
        "Calculating performance metrics."
      ]
    },
    {
      "cell_type": "code",
      "metadata": {
        "id": "QpaU1MI606zj"
      },
      "source": [
        "y_pred = model.predict(X_test)\n",
        "mse = mean_squared_error(y_test, y_pred)\n",
        "r2 = r2_score(y_test, y_pred)\n",
        "print(f\"Mean Squared Error: {mse:.2f}\")\n",
        "print(f\"R^2 Score: {r2:.2f}\")"
      ],
      "outputs": [],
      "execution_count": null
    },
    {
      "cell_type": "markdown",
      "metadata": {
        "id": "QuVed5Vv06zj"
      },
      "source": [
        "# Step 8: Visualizing the Results\n",
        "Plotting the results."
      ]
    },
    {
      "cell_type": "code",
      "metadata": {
        "id": "kWMDrTUG06zj"
      },
      "source": [
        "plt.figure(figsize=(10, 6))\n",
        "plt.scatter(X_test, y_test, color='blue', label='Actual values')\n",
        "plt.plot(X_test, y_pred, color='red', linewidth=2, label='Regression line')\n",
        "plt.xlabel('BMI')\n",
        "plt.ylabel('Disease Progression')\n",
        "plt.title('Linear Regression on Diabetes Dataset')\n",
        "plt.legend()\n",
        "plt.show()"
      ],
      "outputs": [],
      "execution_count": null
    },
    {
      "cell_type": "markdown",
      "metadata": {
        "id": "uWtmPm9806zj"
      },
      "source": [
        "# Step 9: Conclusion\n",
        "Summary of results."
      ]
    },
    {
      "cell_type": "code",
      "metadata": {
        "id": "XCDrnEdQ06zj"
      },
      "source": [
        "print(\"\\nConclusion:\")\n",
        "print(\"The model shows a linear relationship between BMI and disease progression.\")\n",
        "print(\"The R^2 score indicates how well the model explains the variability in the data.\")"
      ],
      "outputs": [],
      "execution_count": null
    }
  ],
  "metadata": {
    "kernelspec": {
      "display_name": "Python 3",
      "language": "python",
      "name": "python3"
    },
    "colab": {
      "provenance": [],
      "include_colab_link": true
    }
  },
  "nbformat": 4,
  "nbformat_minor": 0
}