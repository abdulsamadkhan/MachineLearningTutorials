{
  "cells": [
    {
      "cell_type": "markdown",
      "metadata": {
        "id": "view-in-github",
        "colab_type": "text"
      },
      "source": [
        "<a href=\"https://colab.research.google.com/github/abdulsamadkhan/MachineLearningTutorials/blob/main/lab_1_numpy_basics.ipynb\" target=\"_parent\"><img src=\"https://colab.research.google.com/assets/colab-badge.svg\" alt=\"Open In Colab\"/></a>"
      ]
    },
    {
      "cell_type": "markdown",
      "metadata": {
        "id": "__msdPoog5O8"
      },
      "source": [
        "## Numpy Basics\n",
        "### Dr. Abdul Samad"
      ]
    },
    {
      "cell_type": "markdown",
      "metadata": {
        "id": "FOQIsZNmg5PA"
      },
      "source": [
        "# Overview\n",
        "In this lab, we will go over the fundamentals of Numpy. We'll start with data manipulation and then move on to numpy methods and operators.\n",
        "\n",
        "Objectives:\n",
        "1) Understanding the Basic of numpy Library for Deep Learning\n",
        "2) Applying numpy operations on different tensors"
      ]
    },
    {
      "cell_type": "markdown",
      "metadata": {
        "id": "Ij3-uULEg5PB"
      },
      "source": [
        "# Setup"
      ]
    },
    {
      "cell_type": "code",
      "execution_count": null,
      "metadata": {
        "id": "r69mUGWMntza",
        "outputId": "55ec1a97-3c86-4a02-efed-da962c428ff8",
        "colab": {
          "base_uri": "https://localhost:8080/",
          "height": 36
        }
      },
      "outputs": [
        {
          "output_type": "execute_result",
          "data": {
            "text/plain": [
              "'1.26.4'"
            ],
            "application/vnd.google.colaboratory.intrinsic+json": {
              "type": "string"
            }
          },
          "metadata": {},
          "execution_count": 1
        }
      ],
      "source": [
        "# Import numpy using the alias np\n",
        "import numpy as np\n",
        "from PIL import Image\n",
        "np.__version__"
      ]
    },
    {
      "cell_type": "markdown",
      "metadata": {
        "id": "ddCInS7lg5PE"
      },
      "source": [
        "# 1 - Data Manipulation"
      ]
    },
    {
      "cell_type": "markdown",
      "metadata": {
        "id": "zP0_gG75ntzc"
      },
      "source": [
        "A tensor represents a (possibly multi-dimensional) array of numerical values. With one axis, a tensor corresponds (in math) to a vector. With two axes, a tensor corresponds to a matrix. Tensors with more than two axes do not have special mathematical names.\n"
      ]
    },
    {
      "cell_type": "markdown",
      "metadata": {
        "id": "IW-O9IRGntzd"
      },
      "source": [
        "## Creating Numpy Arrays-Matrices-Tensors"
      ]
    },
    {
      "cell_type": "markdown",
      "metadata": {
        "id": "o1UUtXf-ntze"
      },
      "source": [
        "We can use arange to create a row vector x containing the first 12 integers starting with 0, though they are created as floats by default. Each of the values in a tensor is called an element of the tensor. For instance, there are 12 elements in the tensor x. Unless otherwise specified, a new tensor will be stored in main memory and designated for CPU-based computation.\n",
        "<h3><center>Representation of Creating Vectors</center></h3>\n",
        "\n",
        "\n",
        "<center>\n",
        "\n",
        "![picture](https://drive.google.com/uc?export=view&id=1OLcGvESSr-QDJh6yEf_wHKriLde78EVk)\n",
        "\n",
        "</center>\n",
        "\n"
      ]
    },
    {
      "cell_type": "markdown",
      "source": [
        "\n",
        "\n"
      ],
      "metadata": {
        "id": "sHwsoMyhlBvC"
      }
    },
    {
      "cell_type": "code",
      "execution_count": null,
      "metadata": {
        "id": "SwSmzTarntze",
        "outputId": "b313e5b2-a9f3-4f6d-f73d-7f6228968f61",
        "colab": {
          "base_uri": "https://localhost:8080/"
        }
      },
      "outputs": [
        {
          "output_type": "execute_result",
          "data": {
            "text/plain": [
              "array([ 0,  1,  2,  3,  4,  5,  6,  7,  8,  9, 10, 11])"
            ]
          },
          "metadata": {},
          "execution_count": 2
        }
      ],
      "source": [
        "x = np.arange(12)\n",
        "x"
      ]
    },
    {
      "cell_type": "markdown",
      "metadata": {
        "id": "GbLqIJHtntzg"
      },
      "source": [
        "We can access a tensor’s shape (the length along each axis) by inspecting its shape property."
      ]
    },
    {
      "cell_type": "code",
      "execution_count": null,
      "metadata": {
        "id": "YMjsmrpFntzi",
        "outputId": "78e5e602-743f-4f94-f25c-6924489bd5cc",
        "colab": {
          "base_uri": "https://localhost:8080/"
        }
      },
      "outputs": [
        {
          "output_type": "execute_result",
          "data": {
            "text/plain": [
              "(12,)"
            ]
          },
          "metadata": {},
          "execution_count": 3
        }
      ],
      "source": [
        "x.shape"
      ]
    },
    {
      "cell_type": "markdown",
      "metadata": {
        "id": "FKrqDQC2ntzj"
      },
      "source": [
        "If we just want to know the total number of elements in a tensor, i.e., the product of all of the shape elements, we can inspect its size. Because we are dealing with a vector here, the single element of its shape is identical to its size."
      ]
    },
    {
      "cell_type": "code",
      "execution_count": null,
      "metadata": {
        "id": "ifljJ1LNntzk",
        "outputId": "18d7b51a-631e-49a0-9e88-a49716638062",
        "colab": {
          "base_uri": "https://localhost:8080/"
        }
      },
      "outputs": [
        {
          "output_type": "execute_result",
          "data": {
            "text/plain": [
              "12"
            ]
          },
          "metadata": {},
          "execution_count": 6
        }
      ],
      "source": [
        "x.size"
      ]
    },
    {
      "cell_type": "markdown",
      "metadata": {
        "id": "UJDo8tDOntzk"
      },
      "source": [
        "To change the shape of a tensor without altering either the number of elements or their values, we can invoke the reshape function. For example, we can transform our tensor, x, from a row vector with shape (12,) to a matrix with shape (3, 4). This new tensor contains the exact same values, but views them as a matrix organized as 3 rows and 4 columns. To reiterate, although the shape has changed, the elements have not. Note that the size is unaltered by reshaping. Notice that when we use matrices we also use capital letters.\n",
        "\n",
        "<h3><center>Reshaping Representation</center></h3>\n",
        "\n",
        "\n",
        "<center>\n",
        "\n",
        "![picture](https://drive.google.com/uc?export=view&id=1EkvDoRCCUOY-8RauwZmCCvQPy76Uiw1I)\n",
        "\n",
        "</center>\n",
        "\n"
      ]
    },
    {
      "cell_type": "code",
      "execution_count": null,
      "metadata": {
        "id": "_22GrCkLntzl",
        "outputId": "6064cada-1f0b-47db-de79-732ee2abc3f1",
        "colab": {
          "base_uri": "https://localhost:8080/"
        }
      },
      "outputs": [
        {
          "output_type": "execute_result",
          "data": {
            "text/plain": [
              "(3, 4)"
            ]
          },
          "metadata": {},
          "execution_count": 5
        }
      ],
      "source": [
        "X = x.reshape(3, 4)\n",
        "X.shape"
      ]
    },
    {
      "cell_type": "markdown",
      "metadata": {
        "id": "Pd8aS3Vrg5Pa"
      },
      "source": [
        "Furthemore, Numpy also provides the option of transposing a array-matrix-tensor.\n",
        "\n",
        "<h3><center>Transpose Representation</center></h3>\n",
        "\n",
        "<div>\n",
        "<center>\n",
        "\n",
        "![picture](https://drive.google.com/uc?export=view&id=1Y_PhOEj-anuJAIuvwRH5NN0zEdSVNDFX)\n",
        "\n",
        "</center>\n",
        "</div>\n",
        "\n",
        "\n",
        "\n"
      ]
    },
    {
      "cell_type": "code",
      "execution_count": null,
      "metadata": {
        "id": "yb7AkUNHg5Pb",
        "outputId": "c18dc61e-4f5c-4db4-81b2-fbe4d261f43e",
        "colab": {
          "base_uri": "https://localhost:8080/"
        }
      },
      "outputs": [
        {
          "output_type": "execute_result",
          "data": {
            "text/plain": [
              "array([[0, 5],\n",
              "       [1, 6],\n",
              "       [2, 7],\n",
              "       [3, 8],\n",
              "       [4, 9]])"
            ]
          },
          "metadata": {},
          "execution_count": 6
        }
      ],
      "source": [
        "np.arange(0,10).reshape((2,5)).T"
      ]
    },
    {
      "cell_type": "markdown",
      "metadata": {
        "id": "bYl-VxY5ntzl"
      },
      "source": [
        "In some scenarios we may require a array-matrix-tensor of all ones or zero. We can easily create them use the \"ones\" and \"zeros\" method.\n",
        "\n",
        "<h3><center>Creating vectors with 0s or 1s or random values</center></h3>\n",
        "\n",
        "<div>\n",
        "<center>\n",
        "\n",
        "![picture](https://drive.google.com/uc?export=view&id=1u9Y8IsLzUmvR7IRuUtccGEx0FybdePXA)\n",
        "\n",
        "</center>\n",
        "</div>\n",
        "\n"
      ]
    },
    {
      "cell_type": "code",
      "execution_count": null,
      "metadata": {
        "id": "NnzsHADVntzm",
        "outputId": "05854831-0d61-4484-ea70-6dffdd35c279",
        "colab": {
          "base_uri": "https://localhost:8080/"
        }
      },
      "outputs": [
        {
          "output_type": "execute_result",
          "data": {
            "text/plain": [
              "array([[0., 0., 0., 0., 0., 0., 0.],\n",
              "       [0., 0., 0., 0., 0., 0., 0.]])"
            ]
          },
          "metadata": {},
          "execution_count": 7
        }
      ],
      "source": [
        "X = np.zeros((2, 7))\n",
        "X"
      ]
    },
    {
      "cell_type": "code",
      "execution_count": null,
      "metadata": {
        "id": "TtBWmQeQntzm",
        "outputId": "3f4f553e-aed0-4ada-ac73-3650cb7b1138",
        "colab": {
          "base_uri": "https://localhost:8080/"
        }
      },
      "outputs": [
        {
          "output_type": "execute_result",
          "data": {
            "text/plain": [
              "array([[1., 1., 1., 1., 1., 1., 1.],\n",
              "       [1., 1., 1., 1., 1., 1., 1.],\n",
              "       [1., 1., 1., 1., 1., 1., 1.],\n",
              "       [1., 1., 1., 1., 1., 1., 1.]])"
            ]
          },
          "metadata": {},
          "execution_count": 10
        }
      ],
      "source": [
        "X = np.ones((4, 7))\n",
        "X"
      ]
    },
    {
      "cell_type": "markdown",
      "metadata": {
        "id": "uI3VI_Wpg5Pc"
      },
      "source": [
        "We can also construct special matrices such as the Diagonal and Identity Matrx."
      ]
    },
    {
      "cell_type": "code",
      "execution_count": null,
      "metadata": {
        "id": "GUwhjTfAg5Pc",
        "outputId": "1b5e38ec-dd8d-40b5-8e6b-df92ec7d50fc",
        "colab": {
          "base_uri": "https://localhost:8080/"
        }
      },
      "outputs": [
        {
          "output_type": "execute_result",
          "data": {
            "text/plain": [
              "array([[2, 0, 0],\n",
              "       [0, 3, 0],\n",
              "       [0, 0, 4]])"
            ]
          },
          "metadata": {},
          "execution_count": 11
        }
      ],
      "source": [
        "D = np.diag([2,3,4])\n",
        "D"
      ]
    },
    {
      "cell_type": "code",
      "execution_count": null,
      "metadata": {
        "id": "kWUMvIxKg5Pd",
        "outputId": "ac52ed41-3c4f-4961-a0f2-cd2315a12a85",
        "colab": {
          "base_uri": "https://localhost:8080/"
        }
      },
      "outputs": [
        {
          "output_type": "execute_result",
          "data": {
            "text/plain": [
              "array([[1., 0., 0.],\n",
              "       [0., 1., 0.],\n",
              "       [0., 0., 1.]])"
            ]
          },
          "metadata": {},
          "execution_count": 12
        }
      ],
      "source": [
        "I = np.eye(3)\n",
        "I"
      ]
    },
    {
      "cell_type": "markdown",
      "metadata": {
        "id": "FKV2iRX9ntzm"
      },
      "source": [
        "To create tensor we just add an extra dimension to the shape of numpy object. Lets make a 3x3x3 tensor of all ones."
      ]
    },
    {
      "cell_type": "code",
      "execution_count": null,
      "metadata": {
        "id": "vxGugBfVg5Pe",
        "outputId": "ae594e3c-bb47-47cf-b11e-f7096afc39a5",
        "colab": {
          "base_uri": "https://localhost:8080/"
        }
      },
      "outputs": [
        {
          "output_type": "stream",
          "name": "stdout",
          "text": [
            "[[1. 1. 1.]\n",
            " [1. 1. 1.]\n",
            " [1. 1. 1.]]\n"
          ]
        }
      ],
      "source": [
        "a = np.ones((3,3))\n",
        "print(a)"
      ]
    },
    {
      "cell_type": "markdown",
      "metadata": {
        "id": "odp1BIu3ntzn"
      },
      "source": [
        "Often, we want to randomly sample the values for each element in a tensor from some probability distribution. For example, when we construct arrays to serve as parameters in a neural network, we will typically initialize their values randomly. The following snippet creates a tensor with shape (3, 4). Each of its elements is randomly sampled from a standard Gaussian (normal) distribution with a mean of 0 and a standard deviation of 1. We can see that every time we run this cell it creates new random numbers."
      ]
    },
    {
      "cell_type": "code",
      "execution_count": null,
      "metadata": {
        "id": "F1x6N7kentzn",
        "outputId": "ff550870-d2e4-42f2-87a1-59d91977727f",
        "colab": {
          "base_uri": "https://localhost:8080/"
        }
      },
      "outputs": [
        {
          "output_type": "execute_result",
          "data": {
            "text/plain": [
              "array([[-8.99820852, -1.78102874, -3.58591902, -3.17228492],\n",
              "       [-2.72887219, -2.89643488, -3.14060214, -4.04956966],\n",
              "       [-2.01679029, -2.01614671,  5.32206427, -5.59882704]])"
            ]
          },
          "metadata": {},
          "execution_count": 8
        }
      ],
      "source": [
        "np.random.normal(0, 1, size=(3, 4))"
      ]
    },
    {
      "cell_type": "markdown",
      "metadata": {
        "id": "N3Iit9SKg5Pf"
      },
      "source": [
        "Numpy also provides options to sample from other distributions such as the uniform distribution."
      ]
    },
    {
      "cell_type": "code",
      "execution_count": null,
      "metadata": {
        "id": "8HmG0eqgg5Pf",
        "outputId": "02bbbb15-c5ba-467e-91c5-a6fbf7fee77a",
        "colab": {
          "base_uri": "https://localhost:8080/"
        }
      },
      "outputs": [
        {
          "output_type": "execute_result",
          "data": {
            "text/plain": [
              "array([[0.64113763, 0.2038083 , 0.53277125, 0.37380456, 0.54549302],\n",
              "       [0.06000271, 0.98600389, 0.46103184, 0.22289807, 0.11482525],\n",
              "       [0.95885039, 0.27996065, 0.43437359, 0.01190314, 0.98422767],\n",
              "       [0.10719495, 0.79728303, 0.75284441, 0.51439362, 0.49053786],\n",
              "       [0.01849126, 0.36116979, 0.55869381, 0.59094272, 0.0810031 ]])"
            ]
          },
          "metadata": {},
          "execution_count": 15
        }
      ],
      "source": [
        "np.random.rand(5,5)"
      ]
    },
    {
      "cell_type": "code",
      "execution_count": null,
      "metadata": {
        "id": "D6fNlYjTg5Pg",
        "outputId": "1f319ec5-fd2f-4dc6-8dc7-0113063c45f1",
        "colab": {
          "base_uri": "https://localhost:8080/"
        }
      },
      "outputs": [
        {
          "output_type": "execute_result",
          "data": {
            "text/plain": [
              "array([[0.63248198, 0.85140875, 0.21469012, 0.6491604 , 0.89243035],\n",
              "       [0.15553617, 0.16937814, 0.68224486, 0.36349802, 0.17631958],\n",
              "       [0.34259528, 0.40395674, 0.16832645, 0.76312814, 0.85304087],\n",
              "       [0.99133882, 0.73118065, 0.65761896, 0.85564209, 0.65581896],\n",
              "       [0.33966918, 0.97663456, 0.89798086, 0.85210524, 0.46723159]])"
            ]
          },
          "metadata": {},
          "execution_count": 16
        }
      ],
      "source": [
        "np.random.uniform(size=(5,5))"
      ]
    },
    {
      "cell_type": "code",
      "execution_count": null,
      "metadata": {
        "id": "sSRfbi9Tg5Pg",
        "outputId": "7b39e717-9eae-451e-f17c-6a53677a9794",
        "colab": {
          "base_uri": "https://localhost:8080/"
        }
      },
      "outputs": [
        {
          "output_type": "execute_result",
          "data": {
            "text/plain": [
              "array([[22, 25, 13, 84, 64],\n",
              "       [87, 35, 42, 37, 42],\n",
              "       [25, 55, 61, 62, 62],\n",
              "       [80, 21, 81, 44, 88],\n",
              "       [19,  9, 75, 44, 63]])"
            ]
          },
          "metadata": {},
          "execution_count": 17
        }
      ],
      "source": [
        "np.random.randint(0,100,(5,5))"
      ]
    },
    {
      "cell_type": "markdown",
      "metadata": {
        "id": "Zsn2EysDntzo"
      },
      "source": [
        "## Indexing and Slicing"
      ]
    },
    {
      "cell_type": "markdown",
      "metadata": {
        "id": "EUZKwFC7ntzo"
      },
      "source": [
        "Just as in any other Python array, elements in a tensor can be accessed by index. As in any Python array, the first element has index 0 and ranges are specified to include the first but before the last element. As in standard Python lists, we can access elements according to their relative position to the end of the list by using negative indices.\n",
        "\n",
        "Thus, [-1] selects the last element and [1:3] selects the second and the third elements as follows:\n",
        "\n",
        "<h3><center>Indexing</center></h3>\n",
        "\n",
        "<div>\n",
        "<center>\n",
        "\n",
        "![picture](https://drive.google.com/uc?export=view&id=1hfN2Xf9ZPlwuFaecLCNUgwkX8HxWFJNB)\n",
        "\n",
        "</center>\n",
        "</div>\n",
        "\n",
        "\n"
      ]
    },
    {
      "cell_type": "code",
      "execution_count": null,
      "metadata": {
        "colab": {
          "base_uri": "https://localhost:8080/"
        },
        "id": "CmiaY2J0ntzo",
        "outputId": "2b621ca4-f43c-4d6f-83da-692fa37e810d"
      },
      "outputs": [
        {
          "output_type": "execute_result",
          "data": {
            "text/plain": [
              "(array([5, 6]),\n",
              " 2,\n",
              " array([[3, 4],\n",
              "        [5, 6]]),\n",
              " array([1, 3]))"
            ]
          },
          "metadata": {},
          "execution_count": 18
        }
      ],
      "source": [
        "X = np.arange(1,7).reshape(3, 2)\n",
        "X[-1], X[0,1],X[1:3],X[0:2,0]"
      ]
    },
    {
      "cell_type": "markdown",
      "metadata": {
        "id": "OoqRwcEOntzp"
      },
      "source": [
        "If we want to assign multiple elements the same value, we simply index all of them and then assign them the value. For instance, [0:2, :] accesses the first and second rows, where : takes all the elements along axis 1 (column). While we discussed indexing for matrices, this obviously also works for vectors and for tensors of more than 2 dimensions."
      ]
    },
    {
      "cell_type": "code",
      "execution_count": null,
      "metadata": {
        "id": "oHxZZmBvntzp",
        "outputId": "016149b4-b892-4fff-95e5-e5075000faf5",
        "colab": {
          "base_uri": "https://localhost:8080/"
        }
      },
      "outputs": [
        {
          "output_type": "execute_result",
          "data": {
            "text/plain": [
              "array([[12, 12],\n",
              "       [12, 12],\n",
              "       [ 5,  6]])"
            ]
          },
          "metadata": {},
          "execution_count": 19
        }
      ],
      "source": [
        "X[0:2, :] = 12\n",
        "X"
      ]
    },
    {
      "cell_type": "markdown",
      "metadata": {
        "id": "9IX-Cslog5Pi"
      },
      "source": [
        "In addition to specifying the bounds for accessing the array, we can also specify the stepsize."
      ]
    },
    {
      "cell_type": "code",
      "execution_count": null,
      "metadata": {
        "id": "4n0iDtIlg5Pi",
        "outputId": "3dcaec65-bb51-4d25-917c-09501867b48b",
        "colab": {
          "base_uri": "https://localhost:8080/"
        }
      },
      "outputs": [
        {
          "output_type": "stream",
          "name": "stdout",
          "text": [
            "[[0.27514253 0.78935545 0.8904585  0.25631682 0.89732016]\n",
            " [0.15589898 0.59849331 0.68622176 0.94611853 0.19317615]\n",
            " [0.97276287 0.64256825 0.9996168  0.73472138 0.91757019]\n",
            " [0.81407464 0.55289052 0.39776175 0.45952137 0.08788668]\n",
            " [0.74712709 0.89303132 0.15083067 0.87052803 0.80449409]]\n"
          ]
        }
      ],
      "source": [
        "r = np.random.rand(5,5)\n",
        "print(r)\n"
      ]
    },
    {
      "cell_type": "markdown",
      "metadata": {
        "id": "_7V36ej2g5Pu"
      },
      "source": [
        "Here we are accessing all the rows, but only columns 0,2 and because 4 is the maximum bound and 2 is step size."
      ]
    },
    {
      "cell_type": "code",
      "execution_count": null,
      "metadata": {
        "id": "ulI0JAokg5Pu",
        "outputId": "6a080f8b-a86a-404a-a602-1b0d32f089b6",
        "colab": {
          "base_uri": "https://localhost:8080/"
        }
      },
      "outputs": [
        {
          "output_type": "execute_result",
          "data": {
            "text/plain": [
              "array([[0.27514253, 0.8904585 ],\n",
              "       [0.15589898, 0.68622176],\n",
              "       [0.97276287, 0.9996168 ],\n",
              "       [0.81407464, 0.39776175],\n",
              "       [0.74712709, 0.15083067]])"
            ]
          },
          "metadata": {},
          "execution_count": 21
        }
      ],
      "source": [
        "r[:,0:4:2]"
      ]
    },
    {
      "cell_type": "markdown",
      "metadata": {
        "id": "Q75E9pmUg5Pu"
      },
      "source": [
        "We can also perform the above operation by using `np.arange` instead of providing the indices."
      ]
    },
    {
      "cell_type": "code",
      "execution_count": null,
      "metadata": {
        "id": "JTg84xCMg5Pv",
        "outputId": "7cde2e39-2198-416b-964b-9e270a9c27dd",
        "colab": {
          "base_uri": "https://localhost:8080/"
        }
      },
      "outputs": [
        {
          "output_type": "execute_result",
          "data": {
            "text/plain": [
              "array([[0.27514253, 0.8904585 ],\n",
              "       [0.15589898, 0.68622176],\n",
              "       [0.97276287, 0.9996168 ],\n",
              "       [0.81407464, 0.39776175],\n",
              "       [0.74712709, 0.15083067]])"
            ]
          },
          "metadata": {},
          "execution_count": 22
        }
      ],
      "source": [
        "r[:,np.arange(0,4,2)]"
      ]
    },
    {
      "cell_type": "markdown",
      "metadata": {
        "id": "yBCElBv8g5Pv"
      },
      "source": [
        "## Utilizing what we Learned uptil now\n",
        "\n",
        "We can use the skills that we have learned up until now to create a checkerboard."
      ]
    },
    {
      "cell_type": "code",
      "execution_count": null,
      "metadata": {
        "id": "BNpA_4Glg5Pv",
        "outputId": "3deb96fa-84a2-4f0b-c163-804ab5e6e918",
        "colab": {
          "base_uri": "https://localhost:8080/"
        }
      },
      "outputs": [
        {
          "output_type": "stream",
          "name": "stdout",
          "text": [
            "[[0. 0. 0. 0. 0. 0. 0. 0.]\n",
            " [1. 0. 1. 0. 1. 0. 1. 0.]\n",
            " [0. 0. 0. 0. 0. 0. 0. 0.]\n",
            " [1. 0. 1. 0. 1. 0. 1. 0.]\n",
            " [0. 0. 0. 0. 0. 0. 0. 0.]\n",
            " [1. 0. 1. 0. 1. 0. 1. 0.]\n",
            " [0. 0. 0. 0. 0. 0. 0. 0.]\n",
            " [1. 0. 1. 0. 1. 0. 1. 0.]]\n",
            "[[0. 1. 0. 1. 0. 1. 0. 1.]\n",
            " [1. 0. 1. 0. 1. 0. 1. 0.]\n",
            " [0. 1. 0. 1. 0. 1. 0. 1.]\n",
            " [1. 0. 1. 0. 1. 0. 1. 0.]\n",
            " [0. 1. 0. 1. 0. 1. 0. 1.]\n",
            " [1. 0. 1. 0. 1. 0. 1. 0.]\n",
            " [0. 1. 0. 1. 0. 1. 0. 1.]\n",
            " [1. 0. 1. 0. 1. 0. 1. 0.]]\n"
          ]
        }
      ],
      "source": [
        "# Create a checkerboard\n",
        "z = np.zeros((8,8))\n",
        "# Start from the second row, and skip every alternate row.\n",
        "# Start from the first column, and skip every alternate column.\n",
        "z[1::2,::2]=1\n",
        "print(z)\n",
        "\n",
        "# Start from the first row, and skip every alternate row.\n",
        "# Start from the second column, and skip every alternate column.\n",
        "z[::2,1::2]=1\n",
        "print(z)"
      ]
    },
    {
      "cell_type": "markdown",
      "metadata": {
        "id": "9XLEWpVFg5Pv"
      },
      "source": [
        "We can also add a border of zeros to a matrix of ones."
      ]
    },
    {
      "cell_type": "code",
      "execution_count": null,
      "metadata": {
        "id": "VsizxwDjg5Pw",
        "outputId": "81d3b38e-1f2f-4fb7-e47f-c96c7a9c83e5",
        "colab": {
          "base_uri": "https://localhost:8080/"
        }
      },
      "outputs": [
        {
          "output_type": "stream",
          "name": "stdout",
          "text": [
            "[[0. 1. 1. 1. 1. 1. 1. 1. 1. 0.]\n",
            " [0. 1. 1. 1. 1. 1. 1. 1. 1. 0.]\n",
            " [0. 1. 1. 1. 1. 1. 1. 1. 1. 0.]\n",
            " [0. 1. 1. 1. 1. 1. 1. 1. 1. 0.]\n",
            " [0. 1. 1. 1. 1. 1. 1. 1. 1. 0.]\n",
            " [0. 1. 1. 1. 1. 1. 1. 1. 1. 0.]\n",
            " [0. 1. 1. 1. 1. 1. 1. 1. 1. 0.]\n",
            " [0. 1. 1. 1. 1. 1. 1. 1. 1. 0.]\n",
            " [0. 1. 1. 1. 1. 1. 1. 1. 1. 0.]\n",
            " [0. 1. 1. 1. 1. 1. 1. 1. 1. 0.]]\n",
            "[[0. 0. 0. 0. 0. 0. 0. 0. 0. 0.]\n",
            " [0. 1. 1. 1. 1. 1. 1. 1. 1. 0.]\n",
            " [0. 1. 1. 1. 1. 1. 1. 1. 1. 0.]\n",
            " [0. 1. 1. 1. 1. 1. 1. 1. 1. 0.]\n",
            " [0. 1. 1. 1. 1. 1. 1. 1. 1. 0.]\n",
            " [0. 1. 1. 1. 1. 1. 1. 1. 1. 0.]\n",
            " [0. 1. 1. 1. 1. 1. 1. 1. 1. 0.]\n",
            " [0. 1. 1. 1. 1. 1. 1. 1. 1. 0.]\n",
            " [0. 1. 1. 1. 1. 1. 1. 1. 1. 0.]\n",
            " [0. 0. 0. 0. 0. 0. 0. 0. 0. 0.]]\n"
          ]
        }
      ],
      "source": [
        "# Working with borders and adding padding\n",
        "image = np.ones((10,10))\n",
        "# For all rows, assign first and last column zero.\n",
        "image[:,[0,-1]]=0\n",
        "print(image)\n",
        "# For the first and last rows,assign all columns zero.\n",
        "image[[0,-1],:]=0\n",
        "print(image)"
      ]
    },
    {
      "cell_type": "markdown",
      "metadata": {
        "id": "nlr_pD9bg5Pw"
      },
      "source": [
        "# 2 - Numpy Operators\n",
        "\n"
      ]
    },
    {
      "cell_type": "markdown",
      "metadata": {
        "id": "rMfteBY-g5Pw"
      },
      "source": [
        "In this portion of the lab, we will see at some of the numpy operators. Understanding these will allow you to make your own neural network."
      ]
    },
    {
      "cell_type": "markdown",
      "metadata": {
        "id": "jikn1ynxntzq"
      },
      "source": [
        "## Vectorized Operations\n",
        "\n"
      ]
    },
    {
      "cell_type": "markdown",
      "metadata": {
        "id": "rjJEZCoag5Px"
      },
      "source": [
        "You may have noticed that numpy arrays have the restriction of just one data type. This homogeneity allows us to apply mathematical operations on each of the element in a numpy array at the same time. Suppose I want to add 2 matrices $A,B$ together, I can either iterate 1 by 1 and compute the result for each value or use numpy and do it together. I can do this operation using `np.add(A,B)` or more succinctly `A+B`. They both generate the same result.\n",
        "\n",
        "\n",
        "<center><h3>Addition Representation</h3></center>\n",
        "\n",
        "\n",
        "\n",
        "<div>\n",
        "<center>\n",
        "\n",
        "![picture](https://drive.google.com/uc?export=view&id=19krPPZ9sBqksqiEBgZmdcWh85BtyN-pz)\n",
        "\n",
        "</center>\n",
        "</div>\n",
        "\n",
        "\n",
        "\n",
        "<h3><center>Scalar multiplication Representation</center></h3>\n",
        "\n",
        "<div>\n",
        "<center>\n",
        "\n",
        "![picture](https://drive.google.com/uc?export=view&id=1Lby2jneXd6LS6QwlxzejYhxEKz2ek1Xt)\n",
        "\n",
        "</center>\n",
        "</div>\n",
        "\n"
      ]
    },
    {
      "cell_type": "code",
      "execution_count": null,
      "metadata": {
        "id": "CtydhYoJntzq",
        "outputId": "baee365f-4ceb-4ff2-818e-af826fa3d53e",
        "colab": {
          "base_uri": "https://localhost:8080/"
        }
      },
      "outputs": [
        {
          "output_type": "stream",
          "name": "stdout",
          "text": [
            "[[2 3]\n",
            " [4 5]]\n",
            "[[2 3]\n",
            " [4 5]]\n"
          ]
        }
      ],
      "source": [
        "A = np.array([[1,2],[3,4]])\n",
        "B = np.array([[1,1],[1,1]])\n",
        "print(np.add(A,B))\n",
        "#it's better to only use the numpy library\n",
        "print(A+B)"
      ]
    },
    {
      "cell_type": "markdown",
      "metadata": {
        "id": "mvkxl2ASntzr"
      },
      "source": [
        "We can use other operators as well like\n",
        "1. Subtraction : `np.subtract(A,B)` or `A-B`\n",
        "2. Multiplication : `np.multiply(A,B)` or `A * B`. **Note that this is element-wise multiplication (Hadamard Product). This is not the same as Matrix Multiplication. That can be done using matmul function**\n",
        "3. Division: `np.divide(A,B)` or `A/B`."
      ]
    },
    {
      "cell_type": "markdown",
      "metadata": {
        "id": "6veB6ywtg5Py"
      },
      "source": [
        "## Element-Wise Operators\n",
        "Similarly, we also have element-wise operations\n",
        "\n",
        "1. Square: `np.square(A)`\n",
        "2. Square Root: `np.sqrt(A)`.\n",
        "3. Floor: `np.floor(A)`\n",
        "4. Ceil `np.ceil(A)`\n",
        "5. Absolute Value: `np.abs(A)`\n",
        "6. Exponential: `np.exp(A)`"
      ]
    },
    {
      "cell_type": "markdown",
      "metadata": {
        "id": "lG3Aantag5Py"
      },
      "source": [
        "## Examples of Operations"
      ]
    },
    {
      "cell_type": "code",
      "execution_count": null,
      "metadata": {
        "colab": {
          "base_uri": "https://localhost:8080/"
        },
        "id": "YavXhEYNntzr",
        "outputId": "8e3cab72-7b36-4d70-e5df-cf162ec81699"
      },
      "outputs": [
        {
          "output_type": "stream",
          "name": "stdout",
          "text": [
            "Subtracting revenue and profit: [200 400 600 550 500 900]\n",
            "Multiplying the units sold with price: [1200 2400 3000 4000 5000 5500]\n",
            "Dividing revenue by units sold to get the price:  [ 12.  48.  10. 100. 100.  10.]\n",
            "A: [-3 -2 -1  0  1  2  3]\n",
            "A.^2: [9 4 1 0 1 4 9]\n",
            "Sqrt(A.^2): [3. 2. 1. 0. 1. 2. 3.]\n",
            "A: [92.50720463  8.35435134 76.73810866 57.86973426 72.2542375 ]\n",
            "Floor A [92.  8. 76. 57. 72.]\n",
            "Floor A [93.  9. 77. 58. 73.]\n"
          ]
        }
      ],
      "source": [
        "# Subtraction\n",
        "\n",
        "Revenue = np.array([1200,2400,3000,4000,5000,5500])\n",
        "Cost= np.array([1000,2000,2400,3450,4500,4600])\n",
        "\n",
        "Profit = np.subtract(Revenue,Cost)\n",
        "print(\"Subtracting revenue and profit:\", Profit)\n",
        "\n",
        "# Multiplication\n",
        "\n",
        "Units_Sold = np.array([100,50,300,40,50,550])\n",
        "Price = np.array([12,48,10,100,100,10])\n",
        "Rev = np.multiply(Units_Sold,Price)\n",
        "print(\"Multiplying the units sold with price:\",Rev)\n",
        "\n",
        "\n",
        "# Division\n",
        "\n",
        "Prices = np.divide(Rev,Units_Sold)\n",
        "print(\"Dividing revenue by units sold to get the price: \",Prices)\n",
        "\n",
        "# Square\n",
        "\n",
        "A = np.arange(-3,4)\n",
        "print(\"A:\",A)\n",
        "squaredA = np.square(A)\n",
        "print(\"A.^2:\",squaredA)\n",
        "\n",
        "\n",
        "# Square root\n",
        "\n",
        "sqrt_squaredA = np.sqrt(squaredA)\n",
        "print(\"Sqrt(A.^2):\",sqrt_squaredA)\n",
        "\n",
        "# Floor A\n",
        "A = np.random.uniform(0,100,5)\n",
        "print(\"A:\",A)\n",
        "floor_A = np.floor(A)\n",
        "print(\"Floor A\",floor_A)\n",
        "\n",
        "\n",
        "ceil_A = np.ceil(A)\n",
        "print(\"Floor A\",ceil_A)"
      ]
    },
    {
      "cell_type": "markdown",
      "metadata": {
        "id": "Fa_UK8Okntzr"
      },
      "source": [
        "Element wise exponentiation of an array with Numpy. Applying $e^a$ for every element $a$ in $A$"
      ]
    },
    {
      "cell_type": "code",
      "execution_count": null,
      "metadata": {
        "colab": {
          "base_uri": "https://localhost:8080/"
        },
        "id": "8MLwAeVqntzr",
        "outputId": "30150393-e96c-4840-92bd-2798bed8132d"
      },
      "outputs": [
        {
          "output_type": "execute_result",
          "data": {
            "text/plain": [
              "array([1.00000000e+00, 2.71828183e+00, 7.38905610e+00, 2.00855369e+01,\n",
              "       5.45981500e+01, 1.48413159e+02, 4.03428793e+02, 1.09663316e+03])"
            ]
          },
          "metadata": {},
          "execution_count": 28
        }
      ],
      "source": [
        "x = np.array([0,1,2,3,4,5,6,7])\n",
        "np.exp(x)"
      ]
    },
    {
      "cell_type": "markdown",
      "metadata": {
        "id": "tfd8K9ukntzs"
      },
      "source": [
        "## Combining Numpy Operators\n",
        "\n",
        "\n"
      ]
    },
    {
      "cell_type": "markdown",
      "metadata": {
        "id": "oDJXnEmHg5Pz"
      },
      "source": [
        "Exponentiation is a useful operation which is used in the sigmoid activation function. Sigmoid function is defined as follows:\n",
        "$$\\frac{1}{1+e^{-x}}$$\n",
        "We can use `np.exp(A)` to take $e^x$ on every element $x$.\n",
        "The below example implements this Sigmoid function using exponentiation.\n",
        "<br>\n"
      ]
    },
    {
      "cell_type": "code",
      "execution_count": null,
      "metadata": {
        "colab": {
          "base_uri": "https://localhost:8080/"
        },
        "id": "XQZT1xzSntzs",
        "outputId": "8aa9edfe-cf82-416e-fdaa-7b25f37d04c4"
      },
      "outputs": [
        {
          "output_type": "stream",
          "name": "stdout",
          "text": [
            "[0.11920292 0.26894142 0.5        0.73105858 0.88079708]\n"
          ]
        }
      ],
      "source": [
        "def sigmoid(x):\n",
        "\ta = np.exp(-x)\n",
        "\tb = np.add(1,a)\n",
        "\td = np.divide(1,b)\n",
        "\treturn d\n",
        "\n",
        "output_from_layer = np.array([-2,-1,0,1,2])\n",
        "output_after_sigmoid = sigmoid(output_from_layer)\n",
        "\n",
        "print(output_after_sigmoid)"
      ]
    },
    {
      "cell_type": "markdown",
      "metadata": {
        "id": "IlKl250Yg5P0"
      },
      "source": [
        "Batch Normalization is a regularization technique that allows a neural network to learn a more generalised model. In Batch Normalization, you subtract the mean and divide by the standard deviation."
      ]
    },
    {
      "cell_type": "code",
      "execution_count": null,
      "metadata": {
        "id": "obMbakscg5P0",
        "outputId": "fa794535-6602-4cb5-9a5e-bab56281b785",
        "colab": {
          "base_uri": "https://localhost:8080/"
        }
      },
      "outputs": [
        {
          "output_type": "stream",
          "name": "stdout",
          "text": [
            "[[0.56488475 0.34867434 0.10980316 0.70881975 0.87961391]\n",
            " [0.60941512 0.48842722 0.61533082 0.38191903 0.35637508]\n",
            " [0.33159324 0.84976223 0.44300445 0.18153867 0.2602763 ]\n",
            " [0.33819086 0.82281888 0.76299028 0.65480678 0.86273904]\n",
            " [0.39734049 0.92250026 0.38748571 0.78174384 0.54156771]]\n",
            "Mean : 0.5440648771021778 ; Std : 0.2305865494341274\n",
            "[[ 0.09029094 -0.84736311 -1.88329164  0.71450339  1.45519775]\n",
            " [ 0.28340873 -0.24128754  0.30906375 -0.70318865 -0.81396681]\n",
            " [-0.92143986  1.32573801 -0.43827546 -1.57219148 -1.23072477]\n",
            " [-0.89282751  1.20889098  0.94942834  0.48026176  1.38201541]\n",
            " [-0.63630937  1.64118585 -0.67904726  1.03075816 -0.01082962]]\n"
          ]
        }
      ],
      "source": [
        "r = np.random.random((5,5))\n",
        "print(r)\n",
        "def z_score(mat):\n",
        "    print(f\"Mean : {np.mean(mat)} ; Std : {np.std(mat)}\")\n",
        "    return (mat - np.mean(mat))/np.std(mat)\n",
        "print(z_score(r))"
      ]
    },
    {
      "cell_type": "markdown",
      "metadata": {
        "id": "wWHDwMdYg5P0"
      },
      "source": [
        "## np.nan vs np.inf"
      ]
    },
    {
      "cell_type": "markdown",
      "metadata": {
        "id": "IZV5s1yCg5P1"
      },
      "source": [
        "One thing that should be noted is that `np.nan` is different from `np.inf`. `np.inf` represents positive infinity whereas `np.nan` represents an invalid value. Furthemore, you cannot perform any operations with `np.nan` values."
      ]
    },
    {
      "cell_type": "markdown",
      "metadata": {
        "id": "2jWVCBsOg5P1"
      },
      "source": [
        "We can see that when `np.inf` is compared with 0, the answer is True. However, when `np.nan` is compared with `np.inf`, the answer is False."
      ]
    },
    {
      "cell_type": "code",
      "execution_count": null,
      "metadata": {
        "id": "WAX7-7eYg5P1",
        "outputId": "2dadfd73-029d-4a45-ac47-266dcd48352f",
        "colab": {
          "base_uri": "https://localhost:8080/"
        }
      },
      "outputs": [
        {
          "output_type": "stream",
          "name": "stdout",
          "text": [
            "nan\n",
            "False\n",
            "False\n",
            "False\n",
            "False\n",
            "nan\n",
            "True\n"
          ]
        }
      ],
      "source": [
        "# Working with np.nan and np.Inf\n",
        "print(0*np.inf)\n",
        "print(np.nan == np.nan)\n",
        "print(np.inf > np.nan)\n",
        "print(np.nan > np.inf)\n",
        "print(np.nan < np.nan)\n",
        "print(np.nan - np.nan)\n",
        "print(np.inf > 0)"
      ]
    },
    {
      "cell_type": "markdown",
      "metadata": {
        "id": "DbCDwtJ1ntzs"
      },
      "source": [
        "## Reduction\n",
        "\n"
      ]
    },
    {
      "cell_type": "markdown",
      "metadata": {
        "id": "hUMWDijfg5P1"
      },
      "source": [
        "Sometimes we want to simplify our data. We might be dealing with images and want to convert it into grayscale hence we would need to take the average of the RGB channels. This simplification of data is known as _reduction_. We can perform it on multiple axis, and have functions like sum, average and median. We will motivate this understanding of how we can use axis using an example of pixels. The screen that you have has a width and height. And each pixel has an RGB value.\n",
        "\n",
        "<h3><center>Reduction Representation</center></h3>\n",
        "\n",
        "<div>\n",
        "<center>\n",
        "\n",
        "![picture](https://drive.google.com/uc?export=view&id=1vyJpmmYZ_6DY56-Q2qZpxXGBYN4aBwwV)\n",
        "\n",
        "</center>\n",
        "</div>\n"
      ]
    },
    {
      "cell_type": "code",
      "execution_count": null,
      "metadata": {
        "colab": {
          "base_uri": "https://localhost:8080/"
        },
        "id": "TXB1z1TSntzs",
        "outputId": "a6103e8c-2a3c-4cec-a08f-662aac7d67de"
      },
      "outputs": [
        {
          "output_type": "execute_result",
          "data": {
            "text/plain": [
              "(2, 3, 3)"
            ]
          },
          "metadata": {},
          "execution_count": 13
        }
      ],
      "source": [
        "pixels = np.array([\n",
        "        [[100,200,220],[110,110,110],[120,100,80]]\n",
        "         ,[[0,0,0],[255,250,250],[30,50,70]]])\n",
        "# We have 2 rows, with 3 columns, and each (row,column) pair has 3 values. RGB. The pixel has width 3, and height 2\n",
        "pixels.shape"
      ]
    },
    {
      "cell_type": "markdown",
      "metadata": {
        "id": "ojPCbjL4ntzt"
      },
      "source": [
        "Suppose we want to take the sum of each row, then our axis would be 0 (Row axis)"
      ]
    },
    {
      "cell_type": "code",
      "execution_count": null,
      "metadata": {
        "id": "eUiTMUr-ntzt",
        "outputId": "c816d214-8663-4474-9ff2-38bf2ffcd2e3",
        "colab": {
          "base_uri": "https://localhost:8080/"
        }
      },
      "outputs": [
        {
          "output_type": "execute_result",
          "data": {
            "text/plain": [
              "array([[100, 200, 220],\n",
              "       [365, 360, 360],\n",
              "       [150, 150, 150]])"
            ]
          },
          "metadata": {},
          "execution_count": 15
        }
      ],
      "source": [
        "np.sum(pixels,axis=0)"
      ]
    },
    {
      "cell_type": "markdown",
      "metadata": {
        "id": "LNF-NdnZntzt"
      },
      "source": [
        "If we want to take median of each column, we can take it on axis 1. (Column axis)"
      ]
    },
    {
      "cell_type": "code",
      "execution_count": null,
      "metadata": {
        "id": "RWUZFvYjntzt",
        "outputId": "7643f334-abe5-49de-e8f1-28e5dd8b06d1",
        "colab": {
          "base_uri": "https://localhost:8080/"
        }
      },
      "outputs": [
        {
          "output_type": "execute_result",
          "data": {
            "text/plain": [
              "array([[110., 110., 110.],\n",
              "       [ 30.,  50.,  70.]])"
            ]
          },
          "metadata": {},
          "execution_count": 34
        }
      ],
      "source": [
        "np.median(pixels,axis=1)"
      ]
    },
    {
      "cell_type": "markdown",
      "metadata": {
        "id": "hAlLkFzUntzu"
      },
      "source": [
        "Suppose we want to convert the image into grayscale. Then we will take the average of the R,G,B pixels. Hence our axis will be 2."
      ]
    },
    {
      "cell_type": "code",
      "execution_count": null,
      "metadata": {
        "id": "JWCrK3q_ntzu",
        "outputId": "b1b7081b-3c25-4990-df2a-1c6728446523",
        "colab": {
          "base_uri": "https://localhost:8080/"
        }
      },
      "outputs": [
        {
          "output_type": "execute_result",
          "data": {
            "text/plain": [
              "array([[173.33333333, 110.        , 100.        ],\n",
              "       [  0.        , 251.66666667,  50.        ]])"
            ]
          },
          "metadata": {},
          "execution_count": 35
        }
      ],
      "source": [
        "np.average(pixels,axis=2)"
      ]
    },
    {
      "cell_type": "code",
      "execution_count": null,
      "metadata": {
        "colab": {
          "base_uri": "https://localhost:8080/"
        },
        "id": "r1Q3ZjXOopVp",
        "outputId": "e1f7d5ce-b8c9-4014-f62d-b8defb797c96"
      },
      "outputs": [
        {
          "output_type": "stream",
          "name": "stdout",
          "text": [
            "[[0 1 2 3 4]\n",
            " [5 6 7 8 9]]\n",
            "Shape of A =  (2, 5)\n",
            "[4 9]\n"
          ]
        }
      ],
      "source": [
        "A=np.arange(10).reshape(2,5)\n",
        "print(A)\n",
        "print(\"Shape of A = \",A.shape)\n",
        "print(np.max(A,axis=1))"
      ]
    },
    {
      "cell_type": "markdown",
      "metadata": {
        "id": "enEb8XOLntzu"
      },
      "source": [
        "There exists other functions as well. Like max. You can also apply without specifying the axis. In that case, it will be applied to each element in the matrix."
      ]
    },
    {
      "cell_type": "code",
      "execution_count": null,
      "metadata": {
        "id": "a-wGN38fntzu",
        "outputId": "b27514ab-3ebf-4acd-87db-6d33cd9cae64",
        "colab": {
          "base_uri": "https://localhost:8080/"
        }
      },
      "outputs": [
        {
          "output_type": "execute_result",
          "data": {
            "text/plain": [
              "255"
            ]
          },
          "metadata": {},
          "execution_count": 37
        }
      ],
      "source": [
        "np.max(pixels)"
      ]
    },
    {
      "cell_type": "markdown",
      "metadata": {
        "id": "Ca7oYqzdg5P7"
      },
      "source": [
        "Numpy also provides functions which ignore Nan values when performing operations such as computing the mean or median."
      ]
    },
    {
      "cell_type": "code",
      "execution_count": null,
      "metadata": {
        "id": "x0TYRkvag5P7",
        "outputId": "d8564181-e670-45b6-8576-df409d02863a",
        "colab": {
          "base_uri": "https://localhost:8080/"
        }
      },
      "outputs": [
        {
          "output_type": "stream",
          "name": "stdout",
          "text": [
            "0.5\n",
            "0.5\n",
            "1.0\n"
          ]
        }
      ],
      "source": [
        "A = np.asarray([0,np.nan,1])\n",
        "print(np.nanmean(A))\n",
        "print(np.nanmedian(A))\n",
        "print(np.nansum(A))"
      ]
    },
    {
      "cell_type": "markdown",
      "metadata": {
        "id": "nrIf9oCWntzu"
      },
      "source": [
        "## Non reduction\n",
        "\n",
        "\n"
      ]
    },
    {
      "cell_type": "markdown",
      "metadata": {
        "id": "foJULsvFg5P7"
      },
      "source": [
        "We can sometimes find it can be useful to keep the number of axes unchanged when invoking the function for calculating the sum or mean. In that case, we can set `keepdims = True` and this will preserve our dimensions."
      ]
    },
    {
      "cell_type": "code",
      "execution_count": null,
      "metadata": {
        "colab": {
          "base_uri": "https://localhost:8080/"
        },
        "id": "Y0AVaD19ntzu",
        "outputId": "83c040ef-af5b-4235-a2d3-a593c869afc1"
      },
      "outputs": [
        {
          "output_type": "execute_result",
          "data": {
            "text/plain": [
              "array([[ 0,  1,  2,  3],\n",
              "       [ 4,  5,  6,  7],\n",
              "       [ 8,  9, 10, 11],\n",
              "       [12, 13, 14, 15],\n",
              "       [16, 17, 18, 19]])"
            ]
          },
          "metadata": {},
          "execution_count": 39
        }
      ],
      "source": [
        "A = np.arange(20).reshape(5, 4)\n",
        "A"
      ]
    },
    {
      "cell_type": "code",
      "execution_count": null,
      "metadata": {
        "colab": {
          "base_uri": "https://localhost:8080/"
        },
        "id": "yfvtTQE5ntzu",
        "outputId": "2d0e6e66-8da2-4843-8137-f746ff7e31d2"
      },
      "outputs": [
        {
          "output_type": "execute_result",
          "data": {
            "text/plain": [
              "array([[ 6],\n",
              "       [22],\n",
              "       [38],\n",
              "       [54],\n",
              "       [70]])"
            ]
          },
          "metadata": {},
          "execution_count": 40
        }
      ],
      "source": [
        "sum_A = A.sum(axis=1, keepdims=True)\n",
        "sum_A"
      ]
    },
    {
      "cell_type": "markdown",
      "metadata": {
        "id": "fdiKyJ04ntzv"
      },
      "source": [
        "For instance, since sum_A still keeps its two axes after summing each row, we can divide `A` by `sum_A` with broadcasting."
      ]
    },
    {
      "cell_type": "code",
      "execution_count": null,
      "metadata": {
        "colab": {
          "base_uri": "https://localhost:8080/"
        },
        "id": "NJ2DynMGntzv",
        "outputId": "2e013efd-ea88-4de0-e9bc-112da98cb7bf"
      },
      "outputs": [
        {
          "output_type": "execute_result",
          "data": {
            "text/plain": [
              "array([[0.        , 0.16666667, 0.33333333, 0.5       ],\n",
              "       [0.18181818, 0.22727273, 0.27272727, 0.31818182],\n",
              "       [0.21052632, 0.23684211, 0.26315789, 0.28947368],\n",
              "       [0.22222222, 0.24074074, 0.25925926, 0.27777778],\n",
              "       [0.22857143, 0.24285714, 0.25714286, 0.27142857]])"
            ]
          },
          "metadata": {},
          "execution_count": 41
        }
      ],
      "source": [
        "A / sum_A"
      ]
    },
    {
      "cell_type": "markdown",
      "metadata": {
        "id": "yAOTOXsYntzv"
      },
      "source": [
        "If we want to calculate the cumulative sum of elements of A along some axis, say axis=0 (row by row), we can call the `cumsum` function. This function will not reduce the input tensor along any\n",
        "axis."
      ]
    },
    {
      "cell_type": "code",
      "execution_count": null,
      "metadata": {
        "id": "ue8aKdPIntzv",
        "outputId": "62a0d6b0-fca6-4b96-ba35-25f9300e1684",
        "colab": {
          "base_uri": "https://localhost:8080/"
        }
      },
      "outputs": [
        {
          "output_type": "execute_result",
          "data": {
            "text/plain": [
              "array([[ 0,  1,  2,  3],\n",
              "       [ 4,  6,  8, 10],\n",
              "       [12, 15, 18, 21],\n",
              "       [24, 28, 32, 36],\n",
              "       [40, 45, 50, 55]])"
            ]
          },
          "metadata": {},
          "execution_count": 42
        }
      ],
      "source": [
        "A.cumsum(axis=0)"
      ]
    },
    {
      "cell_type": "markdown",
      "metadata": {
        "id": "zP-1sA1Pntzv"
      },
      "source": [
        "## Dot Product\n",
        "\n"
      ]
    },
    {
      "cell_type": "markdown",
      "metadata": {
        "id": "XAqkac_Lg5P9"
      },
      "source": [
        "So far, we have only performed elementwise operations, sums, and averages. We can now move on to the domain of Linear Algebra. One of the most fundamental operations is the dot product. Given two vectors $x, y \\in  \\mathbb{R}^d$, their _dot product_ $\\mathbf{x}^⊤\\mathbf{y}$ (or $\\langle x, y\\rangle$) is a sum over the products of the elements at the same position\n",
        "$$\\mathbf{x}^⊤\\mathbf{y} = \\sum_{i=1}^{d} x_i y_i$$\n",
        "\n",
        "<h3><center>Dot Product Representation</center></h3>\n",
        "\n",
        "<div>\n",
        "<center>\n",
        "\n",
        "![picture](https://drive.google.com/uc?export=view&id=10XxlAGSDN5b8PlZYYwR-3acxE9Y1DHwu)\n",
        "\n",
        "</center>\n",
        "</div>\n",
        "\n",
        "<h3></h3>\n",
        "\n",
        "<div>\n",
        "<center>\n",
        "\n",
        "![picture](https://drive.google.com/uc?export=view&id=111iiMzYMeAJhEioL1PskliD31E1C1lRW)\n",
        "\n",
        "</center>\n",
        "</div>\n",
        "\n"
      ]
    },
    {
      "cell_type": "code",
      "execution_count": null,
      "metadata": {
        "id": "WgPG50ixntzv",
        "outputId": "069ec639-2e59-4d8e-b319-442c17b84ab3",
        "colab": {
          "base_uri": "https://localhost:8080/"
        }
      },
      "outputs": [
        {
          "output_type": "execute_result",
          "data": {
            "text/plain": [
              "(array([0, 1, 2, 3]), array([1., 1., 1., 1.]), 6.0)"
            ]
          },
          "metadata": {},
          "execution_count": 43
        }
      ],
      "source": [
        "x = np.arange(4)\n",
        "y = np.ones(4)\n",
        "# We use the np.dot function for dot products\n",
        "x,y, np.dot(x,y)"
      ]
    },
    {
      "cell_type": "markdown",
      "metadata": {
        "id": "w8P7aD44ntzw"
      },
      "source": [
        "Dot products are useful in a wide range ofcontexts. For example, given some set of values, denoted by a vector $x \\in \\mathbb{R}^d$ and a set of weights denoted by $w \\in \\mathbb{R}^d$, the weighted sum of the values in $x$ according to the weights $w$ could be expressed as the dot product $\\mathbf{x}^⊤\\mathbf{w}$. When the weights are\n",
        "non-negative and sum to one (i.e., ($\\sum_{i=1}^{d} w_i = 1$), the dot product expresses a _weighted average._\n",
        ")"
      ]
    },
    {
      "cell_type": "markdown",
      "metadata": {
        "id": "W6ew7_sKg5P-"
      },
      "source": [
        "## Broadcasting"
      ]
    },
    {
      "cell_type": "markdown",
      "metadata": {
        "id": "CKiLwPKQntzw"
      },
      "source": [
        "Arrays with different sizes cannot be added, subtracted, or generally be used in arithmetic. A way to overcome this is to duplicate the smaller array so that it is the dimensionality and size as the larger array. This is called array broadcasting and is available in NumPy when performing array arithmetic, which can greatly reduce and simplify your code.\n",
        "\n",
        "<h3><center>Broadcasting Representation</center></h3>\n",
        "\n",
        "<div>\n",
        "<center>\n",
        "\n",
        "![picture](https://drive.google.com/uc?export=view&id=13F1kgRRsVwDnO2vmZuoYJaO0DwH8GZ3B)\n",
        "\n",
        "</center>\n",
        "</div>\n",
        "\n"
      ]
    },
    {
      "cell_type": "code",
      "execution_count": null,
      "metadata": {
        "colab": {
          "base_uri": "https://localhost:8080/"
        },
        "id": "RbLtkEAIn-G5",
        "outputId": "67488be7-f633-452c-e8e6-2dcd0523f4d4"
      },
      "outputs": [
        {
          "output_type": "stream",
          "name": "stdout",
          "text": [
            "[4. 5. 6.]\n"
          ]
        }
      ],
      "source": [
        "# adding a sclar to array\n",
        "A = np.array([1,2,3])\n",
        "b= 3.0\n",
        "print(A+b)"
      ]
    },
    {
      "cell_type": "code",
      "execution_count": null,
      "metadata": {
        "colab": {
          "base_uri": "https://localhost:8080/"
        },
        "id": "23wnHYzroI46",
        "outputId": "f8d989a6-5d7b-4deb-8f76-41a1cbf4860d"
      },
      "outputs": [
        {
          "output_type": "stream",
          "name": "stdout",
          "text": [
            "[[1 2 3]\n",
            " [1 2 3]]\n",
            "[[4. 5. 6.]\n",
            " [4. 5. 6.]]\n"
          ]
        }
      ],
      "source": [
        "# adding a sclar to matrix\n",
        "A = np.array([[1,2,3],[1,2,3]])\n",
        "print(A)\n",
        "b= 3.0\n",
        "print(A+b)"
      ]
    },
    {
      "cell_type": "code",
      "execution_count": null,
      "metadata": {
        "colab": {
          "base_uri": "https://localhost:8080/"
        },
        "id": "CaMmQgnurT1r",
        "outputId": "3ac254c8-2a18-460c-85fc-105b7e0c7490"
      },
      "outputs": [
        {
          "output_type": "stream",
          "name": "stdout",
          "text": [
            "[[1 2 3]\n",
            " [1 2 3]]\n",
            "[[2 3 6]\n",
            " [2 3 6]]\n"
          ]
        }
      ],
      "source": [
        "A = np.array([[1,2,3],[1,2,3]])\n",
        "print(A)\n",
        "B=np.array([1,1,3]).reshape(1,3)\n",
        "print(A+B)\n"
      ]
    },
    {
      "cell_type": "markdown",
      "metadata": {
        "id": "2IJs_uRIg5P_"
      },
      "source": [
        "## Aggregation"
      ]
    },
    {
      "cell_type": "markdown",
      "metadata": {
        "id": "LR3kyvFhg5P_"
      },
      "source": [
        "Additional benefits NumPy gives us are aggregation functions:\n",
        "\n",
        "<h3><center>Aggregation Representation in Vectors</center></h3>\n",
        "\n",
        "\n",
        "<div>\n",
        "<center>\n",
        "\n",
        "![picture](https://drive.google.com/uc?export=view&id=1Nxdj6dXMytOFgWzhnBjhP-6-fQOjWHzc)\n",
        "\n",
        "</center>\n",
        "</div>\n",
        "\n",
        "\n"
      ]
    },
    {
      "cell_type": "markdown",
      "metadata": {
        "id": "F0fATVa5g5QA"
      },
      "source": [
        "In addition to min, max, and sum, you get all the greats like mean to get the average, prod to get the result of multiplying all the elements together, std to get standard deviation, and plenty of others.\n",
        "\n",
        "We can aggregate matrices the same way we aggregated vectors:\n",
        "\n",
        "<h3><center>Aggregation Representation in Matrices</center></h3>\n",
        "\n",
        "<div>\n",
        "<center>\n",
        "\n",
        "![picture](https://drive.google.com/uc?export=view&id=1YQFwQcvymB9c1FC4yWiJnqnopprzD20_)\n",
        "\n",
        "</center>\n",
        "</div>\n",
        "\n",
        "\n"
      ]
    },
    {
      "cell_type": "code",
      "execution_count": null,
      "metadata": {
        "id": "X628xkLYg5QA",
        "outputId": "3645c690-fd62-48d1-fc44-8a5e3bac9ede",
        "colab": {
          "base_uri": "https://localhost:8080/"
        }
      },
      "outputs": [
        {
          "output_type": "execute_result",
          "data": {
            "text/plain": [
              "(1, 3, 6)"
            ]
          },
          "metadata": {},
          "execution_count": 47
        }
      ],
      "source": [
        "# In Vector\n",
        "a = np.arange(1,4)\n",
        "a.min(),a.max(),a.sum()"
      ]
    },
    {
      "cell_type": "code",
      "execution_count": null,
      "metadata": {
        "id": "g9Zk53POg5QA",
        "outputId": "a9d46b57-b0bd-4817-cd8b-add737ecd06a",
        "colab": {
          "base_uri": "https://localhost:8080/"
        }
      },
      "outputs": [
        {
          "output_type": "execute_result",
          "data": {
            "text/plain": [
              "(1, 6, 21)"
            ]
          },
          "metadata": {},
          "execution_count": 48
        }
      ],
      "source": [
        "# In Matrices\n",
        "a = np.arange(1,7).reshape(3,2)\n",
        "a.min(),a.max(),a.sum()"
      ]
    },
    {
      "cell_type": "markdown",
      "metadata": {
        "id": "HrIVDobDg5QB"
      },
      "source": [
        "However, things get a little tricky when axis is involved.\n",
        "<h3><center>Aggregation Representation in Matrices</center></h3>\n",
        "\n",
        "<div>\n",
        "<center>\n",
        "\n",
        "![picture](https://drive.google.com/uc?export=view&id=17D7gIOanZWSxL1fB-DNGD4nIdG9Jy7Ep)\n",
        "\n",
        "</center>\n",
        "</div>\n"
      ]
    },
    {
      "cell_type": "code",
      "execution_count": null,
      "metadata": {
        "id": "H6YgOiasg5QB",
        "outputId": "99b0ba76-511c-4933-b264-be548b932a86",
        "colab": {
          "base_uri": "https://localhost:8080/"
        }
      },
      "outputs": [
        {
          "output_type": "execute_result",
          "data": {
            "text/plain": [
              "(array([1, 2]),\n",
              " array([5, 6]),\n",
              " array([ 9, 12]),\n",
              " array([1, 3, 5]),\n",
              " array([2, 4, 6]),\n",
              " array([ 3,  7, 11]))"
            ]
          },
          "metadata": {},
          "execution_count": 49
        }
      ],
      "source": [
        "# In Matrices\n",
        "a = np.arange(1,7).reshape(3,2)\n",
        "a.min(axis=0),a.max(axis=0),a.sum(axis=0),a.min(axis=1),a.max(axis=1),a.sum(axis=1)"
      ]
    },
    {
      "cell_type": "markdown",
      "metadata": {
        "id": "j61SnVGgg5QB"
      },
      "source": [
        "## argmax vs max and argmin vs min\n",
        "argmax returns the index of maximum value and max returns the value. Similarly, argmin return the index of minimum value and min returns the value."
      ]
    },
    {
      "cell_type": "code",
      "execution_count": null,
      "metadata": {
        "id": "iyE4lmfFg5QB",
        "outputId": "ec137a87-a3bf-494c-ff70-c6001be91d59",
        "colab": {
          "base_uri": "https://localhost:8080/"
        }
      },
      "outputs": [
        {
          "output_type": "stream",
          "name": "stdout",
          "text": [
            "[  3.64224229   1.71190518   3.13003791   0.9852262    8.22047841\n",
            "   5.07621121   9.29879857 100.           2.55468712   6.21558837]\n"
          ]
        }
      ],
      "source": [
        "# Argmin and Argmax\n",
        "z = np.random.uniform(0,10,10)\n",
        "z[np.argmin(z)]=100\n",
        "print(z)"
      ]
    },
    {
      "cell_type": "markdown",
      "metadata": {
        "id": "vyEi1Fn5g5QC"
      },
      "source": [
        "Let's say we want to find the closet value in the array A to the randomnly generated value. We can use the `np.argmin` for this purpose."
      ]
    },
    {
      "cell_type": "code",
      "execution_count": null,
      "metadata": {
        "id": "kIEzwHxog5QC",
        "outputId": "4ce74bd7-e3cf-4720-80b2-dc034648b7df",
        "colab": {
          "base_uri": "https://localhost:8080/"
        }
      },
      "outputs": [
        {
          "output_type": "stream",
          "name": "stdout",
          "text": [
            "Point is 18.27125301794672 is close to 18\n"
          ]
        }
      ],
      "source": [
        "z = np.arange(100)\n",
        "point = np.random.uniform(0,100)\n",
        "index = np.argmin(np.abs(z-point))\n",
        "print(f'Point is {point} is close to {z[index]}')"
      ]
    },
    {
      "cell_type": "markdown",
      "metadata": {
        "id": "FF55B5chg5QC"
      },
      "source": [
        "## 3-Dimensional Tensors\n",
        "When you printing a 3-dimensional NumPy array, the text output visualizes the array differently than stored in memory. here is how it will be stored in Memory.\n",
        "\n",
        "<div>\n",
        "<center>\n",
        "\n",
        "![picture](https://drive.google.com/uc?export=view&id=12sFXgjb17yuIqqkjYpwzftqkzmzqTzdx)\n",
        "\n",
        "</center>\n",
        "</div>\n",
        "\n",
        "\n",
        "\n",
        "NumPy’s order for printing n-dimensional arrays is that the last axis is looped over the fastest, while the first is the slowest. Which means that np.ones((4,3,2)) would be printed as:"
      ]
    },
    {
      "cell_type": "code",
      "execution_count": null,
      "metadata": {
        "id": "VUn2vPW_g5QC",
        "outputId": "4038c17e-ec00-4693-8d16-e719434fd9d3",
        "colab": {
          "base_uri": "https://localhost:8080/"
        }
      },
      "outputs": [
        {
          "output_type": "execute_result",
          "data": {
            "text/plain": [
              "array([[[1., 1.],\n",
              "        [1., 1.],\n",
              "        [1., 1.]],\n",
              "\n",
              "       [[1., 1.],\n",
              "        [1., 1.],\n",
              "        [1., 1.]],\n",
              "\n",
              "       [[1., 1.],\n",
              "        [1., 1.],\n",
              "        [1., 1.]],\n",
              "\n",
              "       [[1., 1.],\n",
              "        [1., 1.],\n",
              "        [1., 1.]]])"
            ]
          },
          "metadata": {},
          "execution_count": 52
        }
      ],
      "source": [
        "np.ones((4,3,2))"
      ]
    },
    {
      "cell_type": "code",
      "execution_count": null,
      "metadata": {
        "id": "BDhCjmodg5QC",
        "outputId": "39df2d92-1f9f-413c-e531-cff2b215ef3f",
        "colab": {
          "base_uri": "https://localhost:8080/"
        }
      },
      "outputs": [
        {
          "output_type": "execute_result",
          "data": {
            "text/plain": [
              "array([[[0.09263333, 0.68505702],\n",
              "        [0.55173932, 0.4623767 ],\n",
              "        [0.81668805, 0.2156118 ]],\n",
              "\n",
              "       [[0.30992207, 0.36327817],\n",
              "        [0.33201482, 0.17118295],\n",
              "        [0.94790222, 0.0679681 ]],\n",
              "\n",
              "       [[0.84047635, 0.46897783],\n",
              "        [0.49631632, 0.36207574],\n",
              "        [0.1759388 , 0.54296652]],\n",
              "\n",
              "       [[0.9512438 , 0.20433098],\n",
              "        [0.67139538, 0.11875401],\n",
              "        [0.01518194, 0.88114774]]])"
            ]
          },
          "metadata": {},
          "execution_count": 53
        }
      ],
      "source": [
        "np.random.random((4,3,2))"
      ]
    }
  ],
  "metadata": {
    "colab": {
      "provenance": [],
      "include_colab_link": true
    },
    "kernelspec": {
      "display_name": "Python 3.9.12 ('base')",
      "language": "python",
      "name": "python3"
    },
    "language_info": {
      "codemirror_mode": {
        "name": "ipython",
        "version": 3
      },
      "file_extension": ".py",
      "mimetype": "text/x-python",
      "name": "python",
      "nbconvert_exporter": "python",
      "pygments_lexer": "ipython3",
      "version": "3.9.2"
    },
    "vscode": {
      "interpreter": {
        "hash": "341ce806ad348c6396969bf6bfc3e3b2899dcbddac3f00a64251096e015967a2"
      }
    }
  },
  "nbformat": 4,
  "nbformat_minor": 0
}