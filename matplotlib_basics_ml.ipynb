{
  "cells": [
    {
      "cell_type": "markdown",
      "metadata": {
        "id": "view-in-github",
        "colab_type": "text"
      },
      "source": [
        "<a href=\"https://colab.research.google.com/github/abdulsamadkhan/MachineLearningTutorials/blob/main/matplotlib_basics_ml.ipynb\" target=\"_parent\"><img src=\"https://colab.research.google.com/assets/colab-badge.svg\" alt=\"Open In Colab\"/></a>"
      ]
    },
    {
      "cell_type": "code",
      "execution_count": null,
      "id": "f6f0c8e2",
      "metadata": {
        "id": "f6f0c8e2"
      },
      "outputs": [],
      "source": [
        "\n",
        "import matplotlib.pyplot as plt\n",
        "import numpy as np\n",
        "\n",
        "# Step 1: Basic Line Plot (Used for visualizing trends in data)\n",
        "x = np.linspace(0, 10, 100)\n",
        "y = np.sin(x)\n",
        "\n",
        "plt.figure(figsize=(8, 5))\n",
        "plt.plot(x, y, label='Sine Wave', color='blue', linestyle='--')\n",
        "plt.title('Basic Line Plot')\n",
        "plt.xlabel('X-axis')\n",
        "plt.ylabel('Y-axis')\n",
        "plt.legend()\n",
        "plt.grid(True)\n",
        "plt.show()\n"
      ]
    },
    {
      "cell_type": "code",
      "execution_count": null,
      "id": "41ce1875",
      "metadata": {
        "id": "41ce1875"
      },
      "outputs": [],
      "source": [
        "\n",
        "# Step 2: Scatter Plot (Often used to visualize relationships between features)\n",
        "np.random.seed(0)\n",
        "x_scatter = np.random.rand(50)\n",
        "y_scatter = np.random.rand(50)\n",
        "sizes = np.random.randint(50, 300, size=50)\n",
        "colors = np.random.rand(50)\n",
        "\n",
        "plt.figure(figsize=(8, 5))\n",
        "plt.scatter(x_scatter, y_scatter, s=sizes, c=colors, alpha=0.5, cmap='viridis')\n",
        "plt.colorbar(label='Color Intensity')\n",
        "plt.title('Scatter Plot')\n",
        "plt.xlabel('X-axis')\n",
        "plt.ylabel('Y-axis')\n",
        "plt.show()\n"
      ]
    },
    {
      "cell_type": "code",
      "execution_count": null,
      "id": "3b036fed",
      "metadata": {
        "id": "3b036fed"
      },
      "outputs": [],
      "source": [
        "\n",
        "# Step 3: Bar Plot (Useful for comparing categorical data)\n",
        "categories = ['A', 'B', 'C', 'D']\n",
        "values = [5, 7, 3, 8]\n",
        "\n",
        "plt.figure(figsize=(8, 5))\n",
        "plt.bar(categories, values, color=['red', 'green', 'blue', 'orange'])\n",
        "plt.title('Bar Plot')\n",
        "plt.xlabel('Categories')\n",
        "plt.ylabel('Values')\n",
        "plt.show()\n"
      ]
    },
    {
      "cell_type": "code",
      "execution_count": null,
      "id": "89d313ef",
      "metadata": {
        "id": "89d313ef"
      },
      "outputs": [],
      "source": [
        "\n",
        "# Step 4: Histogram (Often used in feature distribution analysis)\n",
        "data = np.random.randn(1000)\n",
        "\n",
        "plt.figure(figsize=(8, 5))\n",
        "plt.hist(data, bins=30, color='purple', alpha=0.7)\n",
        "plt.title('Histogram')\n",
        "plt.xlabel('Value')\n",
        "plt.ylabel('Frequency')\n",
        "plt.show()\n"
      ]
    },
    {
      "cell_type": "code",
      "execution_count": null,
      "id": "ccda61f0",
      "metadata": {
        "id": "ccda61f0"
      },
      "outputs": [],
      "source": [
        "\n",
        "# Step 5: Pie Chart (For visualizing proportions in datasets)\n",
        "sizes = [20, 35, 25, 20]\n",
        "labels = ['Apple', 'Banana', 'Cherry', 'Date']\n",
        "colors = ['gold', 'lightblue', 'lightgreen', 'pink']\n",
        "\n",
        "plt.figure(figsize=(8, 5))\n",
        "plt.pie(sizes, labels=labels, colors=colors, autopct='%1.1f%%', startangle=140)\n",
        "plt.title('Pie Chart')\n",
        "plt.show()\n"
      ]
    },
    {
      "cell_type": "code",
      "execution_count": null,
      "id": "ae3c83cf",
      "metadata": {
        "id": "ae3c83cf"
      },
      "outputs": [],
      "source": [
        "\n",
        "# Step 6: Subplots (Useful for comparing multiple visualizations)\n",
        "fig, axs = plt.subplots(2, 2, figsize=(10, 8))\n",
        "fig.suptitle('Multiple Plots Example')\n",
        "\n",
        "axs[0, 0].plot(x, y, color='blue')\n",
        "axs[0, 0].set_title('Line Plot')\n",
        "\n",
        "axs[0, 1].scatter(x_scatter, y_scatter, c=colors)\n",
        "axs[0, 1].set_title('Scatter Plot')\n",
        "\n",
        "axs[1, 0].bar(categories, values, color='orange')\n",
        "axs[1, 0].set_title('Bar Plot')\n",
        "\n",
        "axs[1, 1].hist(data, bins=20, color='purple')\n",
        "axs[1, 1].set_title('Histogram')\n",
        "\n",
        "plt.tight_layout(rect=[0, 0, 1, 0.96])\n",
        "plt.show()\n"
      ]
    },
    {
      "cell_type": "markdown",
      "id": "8fe4b458",
      "metadata": {
        "id": "8fe4b458"
      },
      "source": [
        "\n",
        "# Conclusion:\n",
        "- `plt.plot()` for line plots\n",
        "- `plt.scatter()` for scatter plots\n",
        "- `plt.bar()` for bar charts\n",
        "- `plt.hist()` for histograms\n",
        "- `plt.pie()` for pie charts\n",
        "- `plt.subplots()` for multiple plots in a grid\n",
        "\n",
        "These techniques are crucial for understanding data patterns and relationships, which is essential in machine learning for feature analysis and model evaluation.\n"
      ]
    }
  ],
  "metadata": {
    "colab": {
      "provenance": [],
      "include_colab_link": true
    }
  },
  "nbformat": 4,
  "nbformat_minor": 5
}